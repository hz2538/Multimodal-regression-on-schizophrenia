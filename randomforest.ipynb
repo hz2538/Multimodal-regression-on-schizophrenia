{
 "cells": [
  {
   "cell_type": "code",
   "execution_count": 7,
   "metadata": {
    "colab": {},
    "colab_type": "code",
    "id": "Ww-5u0FCaVOj"
   },
   "outputs": [],
   "source": [
    "#Import scikit-learn dataset library\n",
    "import scipy.io as sio\n",
    "import pandas as pd\n",
    "import numpy as np\n",
    "from tqdm import tnrange, tqdm_notebook\n",
    "from sklearn.preprocessing import maxabs_scale, minmax_scale\n",
    "from sklearn.model_selection import train_test_split, KFold\n",
    "from sklearn.decomposition import PCA\n",
    "from sklearn.ensemble import RandomForestRegressor\n",
    "from sklearn.model_selection import GridSearchCV\n",
    "from sklearn import metrics\n",
    "import matplotlib.pylab as plt\n",
    "import seaborn as sns\n",
    "import yaml\n",
    "import csv\n",
    "import itertools\n",
    "import time, warnings\\\n",
    "\n",
    "\n",
    "warnings.filterwarnings('ignore')\n",
    "sns.set(style='whitegrid',palette='cividis')"
   ]
  },
  {
   "cell_type": "code",
   "execution_count": 8,
   "metadata": {
    "colab": {},
    "colab_type": "code",
    "id": "Zg2FB9yxRFAj"
   },
   "outputs": [],
   "source": [
    "# No V0\n",
    "rdata = sio.loadmat('Data_noV0/rData.mat')['rData_all'].T\n",
    "cdata = sio.loadmat('Data_noV0/cData.mat')['cData_all'].T\n",
    "xdata = sio.loadmat('Data_noV0/xData.mat')['xData_all'].T\n",
    "pdata = sio.loadmat('Data_noV0/pData.mat')['pData_all'].T"
   ]
  },
  {
   "cell_type": "code",
   "execution_count": 9,
   "metadata": {
    "colab": {},
    "colab_type": "code",
    "id": "8z1zh1EtbDKb"
   },
   "outputs": [],
   "source": [
    "# Labels No V0\n",
    "pos = sio.loadmat('Data_noV0/posPANSS.mat')['pos_all'].T\n",
    "neg = sio.loadmat('Data_noV0/negPANSS.mat')['neg_all'].T\n",
    "gen = sio.loadmat('Data_noV0/genPANSS.mat')['gen_all'].T\n",
    "tot = sio.loadmat('Data_noV0/totPANSS.mat')['tot_all'].T\n",
    "cog = sio.loadmat('Data_noV0/cogPANSS.mat')['PANSS_cog_all'].T"
   ]
  },
  {
   "cell_type": "code",
   "execution_count": 10,
   "metadata": {
    "colab": {},
    "colab_type": "code",
    "id": "TPiBHSOqbGye"
   },
   "outputs": [],
   "source": [
    "# Normalization\n",
    "rdata_maxabs = maxabs_scale(rdata,axis=0)\n",
    "cdata_maxabs = maxabs_scale(cdata,axis=0)\n",
    "pdata_maxabs = maxabs_scale(pdata,axis=0)\n",
    "xdata_maxabs = maxabs_scale(xdata,axis=0)\n",
    "data_maxabs = [rdata_maxabs,cdata_maxabs,pdata_maxabs,xdata_maxabs]"
   ]
  },
  {
   "cell_type": "code",
   "execution_count": 11,
   "metadata": {
    "colab": {
     "base_uri": "https://localhost:8080/",
     "height": 34
    },
    "colab_type": "code",
    "id": "9R7x0XXCkX2N",
    "outputId": "4df32ed2-48e9-46c8-c48d-3108682560ab"
   },
   "outputs": [],
   "source": [
    "# score normalization\n",
    "cog_app = np.vstack((cog,[10],[52]))\n",
    "# score = np.hstack((pos,neg,gen,tot))\n",
    "cog_minmax = minmax_scale(cog_app,axis=0)\n",
    "cog_maxabs = maxabs_scale(cog_app,axis=0)\n",
    "cog_norm = cog_minmax[:-2]\n",
    "# cog_norm = cog_maxabs[:-2]"
   ]
  },
  {
   "cell_type": "code",
   "execution_count": 12,
   "metadata": {
    "colab": {
     "base_uri": "https://localhost:8080/",
     "height": 291
    },
    "colab_type": "code",
    "id": "WhbJJB3scVXh",
    "outputId": "c1bedfa0-59fd-4c6a-9a1f-76a5be6fdf8f"
   },
   "outputs": [
    {
     "data": {
      "text/plain": [
       "<matplotlib.axes._subplots.AxesSubplot at 0x239e1878278>"
      ]
     },
     "execution_count": 12,
     "metadata": {},
     "output_type": "execute_result"
    },
    {
     "data": {
      "image/png": "[encoded data removed]",
      "text/plain": [
       "<Figure size 432x288 with 1 Axes>"
      ]
     },
     "metadata": {},
     "output_type": "display_data"
    }
   ],
   "source": [
    "import seaborn as sns\n",
    "\n",
    "sns.set_style('darkgrid')\n",
    "sns.distplot(cog_norm)"
   ]
  },
  {
   "cell_type": "code",
   "execution_count": 13,
   "metadata": {
    "colab": {},
    "colab_type": "code",
    "id": "ZaCoOLusjdXr"
   },
   "outputs": [],
   "source": [
    "from sklearn.model_selection import KFold\n",
    "from sklearn.feature_selection import RFE, mutual_info_regression\n",
    "from sklearn.kernel_approximation import RBFSampler\n",
    "from sklearn.metrics import mean_squared_error, r2_score\n",
    "from sklearn.linear_model import Lasso, LassoLars, LassoLarsIC \n",
    "from sklearn.linear_model import OrthogonalMatchingPursuit, ElasticNet"
   ]
  },
  {
   "cell_type": "code",
   "execution_count": 14,
   "metadata": {
    "colab": {},
    "colab_type": "code",
    "id": "z_T0famSgzOi"
   },
   "outputs": [],
   "source": [
    "def cal_score(data,data_max,data_min):\n",
    "    return np.dot(data,(data_max - data_min)) + data_min"
   ]
  },
  {
   "cell_type": "code",
   "execution_count": 15,
   "metadata": {},
   "outputs": [],
   "source": [
    "def create_alpha(ll,ul,step):\n",
    "    ilist=[]\n",
    "    ilist_exp = np.linspace(ll,ul,step)\n",
    "    ilist_raw = [[10**(item),5.0*10**(item)] for item in ilist_exp]\n",
    "    [ilist.extend(i) for i in ilist_raw]\n",
    "    return ilist"
   ]
  },
  {
   "cell_type": "code",
   "execution_count": 16,
   "metadata": {},
   "outputs": [],
   "source": [
    "def to_sets(rf_cv):\n",
    "    rf_params_list =[]\n",
    "    cnt_loop = []\n",
    "    for value in rf_cv.values():\n",
    "        cnt_loop.append(len(value))\n",
    "    keys = list(rf_cv.keys())\n",
    "\n",
    "    \n",
    "    for a in range(cnt_loop[0]):\n",
    "        for b in range(cnt_loop[1]):\n",
    "            for c in range(cnt_loop[2]):\n",
    "                for d in range(cnt_loop[3]):\n",
    "                    for e in range(cnt_loop[4]):\n",
    "                        for f in range(cnt_loop[5]):\n",
    "                            tmp=[rf_cv[keys[0]][a], rf_cv[keys[1]][b], rf_cv[keys[2]][c],\n",
    "                                 rf_cv[keys[3]][d], rf_cv[keys[4]][e], rf_cv[keys[5]][f]]\n",
    "                            rf_params_list.append(tmp)\n",
    "    return rf_params_list\n",
    "    "
   ]
  },
  {
   "cell_type": "markdown",
   "metadata": {},
   "source": [
    "## LassoCD"
   ]
  },
  {
   "cell_type": "code",
   "execution_count": 11,
   "metadata": {},
   "outputs": [],
   "source": [
    "def lassoCD(X, y, ll, ul, step, state, score_min, score_max, rf_params):\n",
    "    kf = KFold(n_splits=10,shuffle=True,random_state=state)\n",
    "    feature = []\n",
    "    score = []\n",
    "    metric = []\n",
    "    m_mse = []\n",
    "    m_r2 = []\n",
    "#     ilist = create_alpha(ll,ul,step)\n",
    "    ilist = np.linspace(ll,ul,step)\n",
    "    pbar = tnrange(step*10, desc='loop')\n",
    "    for i in ilist: # search best parameter\n",
    "        mse = []\n",
    "        r2 = []\n",
    "        fea = []\n",
    "        sco_pred = []\n",
    "        sco_true = []\n",
    "        for train_index, test_index in kf.split(X):\n",
    "            y_train, y_test_raw = y[train_index], y[test_index]\n",
    "            X_train_tmp, X_test_tmp = X[train_index], X[test_index]\n",
    "            \n",
    "            clf = Lasso(alpha=i)\n",
    "            clf.fit(X_train_tmp, np.ravel(y_train))\n",
    "            fea_idx = [i for i,x in enumerate(clf.coef_) if x>0]\n",
    "            X_train = X_train_tmp[:,fea_idx]\n",
    "            X_test = X_test_tmp[:,fea_idx]\n",
    "            y_test_raw = list(list(zip(*y_test_raw))[0])\n",
    "\n",
    "            rRF = RandomForestRegressor(n_estimators=rf_params[0], \n",
    "                                        criterion=rf_params[1], \n",
    "                                        max_depth = rf_params[2], \n",
    "                                        min_samples_leaf = rf_params[3], \n",
    "                                        min_samples_split = rf_params[4], \n",
    "                                        max_features=rf_params[5], \n",
    "                                        random_state=state)\n",
    "            \n",
    "            rRF.fit(X_train, np.ravel(y_train))\n",
    "            y_test_pred_raw = rRF.predict(X_test)\n",
    "            y_test_pred = cal_score(y_test_pred_raw,score_max,score_min)\n",
    "            y_test = cal_score(y_test_raw,score_max,score_min)\n",
    "            mse.append(mean_squared_error(y_test, y_test_pred))\n",
    "            r2.append(r2_score(y_test, y_test_pred))\n",
    "            fea.append(fea_idx)\n",
    "            sco_pred.append(list(y_test_pred))\n",
    "            sco_true.append(list(y_test))\n",
    "            pbar.update(1)\n",
    "        feature.append(fea)\n",
    "        score.append((sco_pred, sco_true))\n",
    "        metric.append((mse,r2))\n",
    "        m_mse.append(sum(mse)/10)  # mean mse trace for all alpha\n",
    "        m_r2.append(sum(r2)/10)    # mean r2 trace for all alpha\n",
    "    \n",
    "    a = m_r2.index(max(m_r2))\n",
    "    feature_fd = [len(feature[a][i]) for i in range(10)]\n",
    "    num_feature = int(np.mean(feature_fd))\n",
    "    df = {'max_r2': m_r2[a], 'best_alpha': ilist[a], 'num_features': num_feature}\n",
    "    pbar.close()\n",
    "#     plt.figure()\n",
    "#     plt.plot(ilist,m_r2)\n",
    "#     plt.xlabel('$alpha$')\n",
    "#     plt.ylabel('$R^2$')\n",
    "    print('best r2_score=',m_r2[a],', corresponding alpha=', ilist[a])\n",
    "    print('number of selected features:',num_feature)\n",
    "    return df, feature[a], score[a], metric[a]"
   ]
  },
  {
   "cell_type": "code",
   "execution_count": 12,
   "metadata": {},
   "outputs": [],
   "source": [
    "def train_lassoCD(X, y, cfg):\n",
    "    ## set configs    \n",
    "    result = []\n",
    "    ll = cfg.get(\"ll\")\n",
    "    ul = cfg.get(\"ul\")\n",
    "    step = cfg.get(\"step\")\n",
    "    state = cfg.get(\"random_state\")\n",
    "    score_min = cfg.get(\"score_min\")\n",
    "    score_max = cfg.get(\"score_max\")\n",
    "    rf_cv = cfg.get(\"rf_params_set\")\n",
    "    rf_params_list = to_sets(rf_cv)\n",
    "    for rf_params in rf_params_list:\n",
    "        result_row, feature, score, metric = lassoCD(X, y, ll, ul, step, state, score_min, score_max, rf_params)\n",
    "        result_row.update({\"params\":rf_params})\n",
    "        result.append(result_row)\n",
    "        print(result_row)\n",
    "    return result, feature, score, metric"
   ]
  },
  {
   "cell_type": "markdown",
   "metadata": {},
   "source": [
    "### cdata"
   ]
  },
  {
   "cell_type": "code",
   "execution_count": 16,
   "metadata": {},
   "outputs": [],
   "source": [
    "X = cdata_maxabs\n",
    "y = cog_norm\n",
    "yamlfile = 'config/lassoCD_rf_cdata.yaml'\n",
    "with open(yamlfile, 'r') as f:\n",
    "    cfg = yaml.load(f, Loader=yaml.FullLoader)"
   ]
  },
  {
   "cell_type": "code",
   "execution_count": 36,
   "metadata": {},
   "outputs": [
    {
     "data": {
      "application/vnd.jupyter.widget-view+json": {
       "model_id": "fb6ac93fc76c4502942621e2b0b080a9",
       "version_major": 2,
       "version_minor": 0
      },
      "text/plain": [
       "HBox(children=(IntProgress(value=0, description='loop', max=600, style=ProgressStyle(description_width='initia…"
      ]
     },
     "metadata": {},
     "output_type": "display_data"
    },
    {
     "name": "stdout",
     "output_type": "stream",
     "text": [
      "\n",
      "best r2_score= -0.0743579134366448 , corresponding alpha= 0.0066\n",
      "number of selected features: 4\n",
      "{'max_r2': -0.0743579134366448, 'best_alpha': 0.0066, 'num_features': 4, 'params': [100, 'mse', 2, 1, 2, 'sqrt']}\n"
     ]
    },
    {
     "data": {
      "application/vnd.jupyter.widget-view+json": {
       "model_id": "16afa5a5eede4970b21f2a8e20aa3b7a",
       "version_major": 2,
       "version_minor": 0
      },
      "text/plain": [
       "HBox(children=(IntProgress(value=0, description='loop', max=600, style=ProgressStyle(description_width='initia…"
      ]
     },
     "metadata": {},
     "output_type": "display_data"
    },
    {
     "name": "stdout",
     "output_type": "stream",
     "text": [
      "\n",
      "best r2_score= -0.07473872013695029 , corresponding alpha= 0.0066\n",
      "number of selected features: 4\n",
      "{'max_r2': -0.07473872013695029, 'best_alpha': 0.0066, 'num_features': 4, 'params': [100, 'mse', 2, 1, 2, 'auto']}\n"
     ]
    },
    {
     "data": {
      "application/vnd.jupyter.widget-view+json": {
       "model_id": "c831c8fe12ee49f1a0d7d9a4993ca18f",
       "version_major": 2,
       "version_minor": 0
      },
      "text/plain": [
       "HBox(children=(IntProgress(value=0, description='loop', max=600, style=ProgressStyle(description_width='initia…"
      ]
     },
     "metadata": {},
     "output_type": "display_data"
    },
    {
     "name": "stdout",
     "output_type": "stream",
     "text": [
      "\n",
      "best r2_score= -0.10783437765327789 , corresponding alpha= 0.006699999999999999\n",
      "number of selected features: 4\n",
      "{'max_r2': -0.10783437765327789, 'best_alpha': 0.006699999999999999, 'num_features': 4, 'params': [100, 'mse', 2, 3, 2, 'sqrt']}\n"
     ]
    },
    {
     "data": {
      "application/vnd.jupyter.widget-view+json": {
       "model_id": "7fb34ce9a5cb4680842763bb0ca3008a",
       "version_major": 2,
       "version_minor": 0
      },
      "text/plain": [
       "HBox(children=(IntProgress(value=0, description='loop', max=600, style=ProgressStyle(description_width='initia…"
      ]
     },
     "metadata": {},
     "output_type": "display_data"
    },
    {
     "name": "stdout",
     "output_type": "stream",
     "text": [
      "\n",
      "best r2_score= -0.12403251850583599 , corresponding alpha= 0.0066\n",
      "number of selected features: 4\n",
      "{'max_r2': -0.12403251850583599, 'best_alpha': 0.0066, 'num_features': 4, 'params': [100, 'mse', 2, 3, 2, 'auto']}\n"
     ]
    },
    {
     "data": {
      "application/vnd.jupyter.widget-view+json": {
       "model_id": "90ec8b73ca784f0a85015a55e3fe5fd0",
       "version_major": 2,
       "version_minor": 0
      },
      "text/plain": [
       "HBox(children=(IntProgress(value=0, description='loop', max=600, style=ProgressStyle(description_width='initia…"
      ]
     },
     "metadata": {},
     "output_type": "display_data"
    },
    {
     "name": "stdout",
     "output_type": "stream",
     "text": [
      "\n",
      "best r2_score= -0.0857466840345198 , corresponding alpha= 0.0066\n",
      "number of selected features: 4\n",
      "{'max_r2': -0.0857466840345198, 'best_alpha': 0.0066, 'num_features': 4, 'params': [100, 'mse', 3, 1, 2, 'sqrt']}\n"
     ]
    },
    {
     "data": {
      "application/vnd.jupyter.widget-view+json": {
       "model_id": "d98ec2f32b9f459f9bf2741a2c3fcd39",
       "version_major": 2,
       "version_minor": 0
      },
      "text/plain": [
       "HBox(children=(IntProgress(value=0, description='loop', max=600, style=ProgressStyle(description_width='initia…"
      ]
     },
     "metadata": {},
     "output_type": "display_data"
    },
    {
     "name": "stdout",
     "output_type": "stream",
     "text": [
      "\n",
      "best r2_score= -0.08496338880332485 , corresponding alpha= 0.0066\n",
      "number of selected features: 4\n",
      "{'max_r2': -0.08496338880332485, 'best_alpha': 0.0066, 'num_features': 4, 'params': [100, 'mse', 3, 1, 2, 'auto']}\n"
     ]
    },
    {
     "data": {
      "application/vnd.jupyter.widget-view+json": {
       "model_id": "4f19418a98124ed9b3ed6147ca7a6bee",
       "version_major": 2,
       "version_minor": 0
      },
      "text/plain": [
       "HBox(children=(IntProgress(value=0, description='loop', max=600, style=ProgressStyle(description_width='initia…"
      ]
     },
     "metadata": {},
     "output_type": "display_data"
    },
    {
     "name": "stdout",
     "output_type": "stream",
     "text": [
      "\n",
      "best r2_score= -0.12274776375884403 , corresponding alpha= 0.0066\n",
      "number of selected features: 4\n",
      "{'max_r2': -0.12274776375884403, 'best_alpha': 0.0066, 'num_features': 4, 'params': [100, 'mse', 3, 3, 2, 'sqrt']}\n"
     ]
    },
    {
     "data": {
      "application/vnd.jupyter.widget-view+json": {
       "model_id": "e17df9e7fb1c45b081986289bdd174cb",
       "version_major": 2,
       "version_minor": 0
      },
      "text/plain": [
       "HBox(children=(IntProgress(value=0, description='loop', max=600, style=ProgressStyle(description_width='initia…"
      ]
     },
     "metadata": {},
     "output_type": "display_data"
    },
    {
     "name": "stdout",
     "output_type": "stream",
     "text": [
      "\n",
      "best r2_score= -0.12917322642171117 , corresponding alpha= 0.0066\n",
      "number of selected features: 4\n",
      "{'max_r2': -0.12917322642171117, 'best_alpha': 0.0066, 'num_features': 4, 'params': [100, 'mse', 3, 3, 2, 'auto']}\n"
     ]
    },
    {
     "data": {
      "application/vnd.jupyter.widget-view+json": {
       "model_id": "07e75ad6d3a043a7842becad443c6d43",
       "version_major": 2,
       "version_minor": 0
      },
      "text/plain": [
       "HBox(children=(IntProgress(value=0, description='loop', max=600, style=ProgressStyle(description_width='initia…"
      ]
     },
     "metadata": {},
     "output_type": "display_data"
    },
    {
     "name": "stdout",
     "output_type": "stream",
     "text": [
      "\n",
      "best r2_score= -0.11908079443643182 , corresponding alpha= 0.0065\n",
      "number of selected features: 5\n",
      "{'max_r2': -0.11908079443643182, 'best_alpha': 0.0065, 'num_features': 5, 'params': [100, 'mse', 5, 1, 2, 'sqrt']}\n"
     ]
    },
    {
     "data": {
      "application/vnd.jupyter.widget-view+json": {
       "model_id": "f791d52d10504a3d8eea7f4dd21ea3cd",
       "version_major": 2,
       "version_minor": 0
      },
      "text/plain": [
       "HBox(children=(IntProgress(value=0, description='loop', max=600, style=ProgressStyle(description_width='initia…"
      ]
     },
     "metadata": {},
     "output_type": "display_data"
    },
    {
     "name": "stdout",
     "output_type": "stream",
     "text": [
      "\n",
      "best r2_score= -0.11361542132682186 , corresponding alpha= 0.0066\n",
      "number of selected features: 4\n",
      "{'max_r2': -0.11361542132682186, 'best_alpha': 0.0066, 'num_features': 4, 'params': [100, 'mse', 5, 1, 2, 'auto']}\n"
     ]
    },
    {
     "data": {
      "application/vnd.jupyter.widget-view+json": {
       "model_id": "c2d10b4b174b4764a6b591ca4f20ee5e",
       "version_major": 2,
       "version_minor": 0
      },
      "text/plain": [
       "HBox(children=(IntProgress(value=0, description='loop', max=600, style=ProgressStyle(description_width='initia…"
      ]
     },
     "metadata": {},
     "output_type": "display_data"
    },
    {
     "name": "stdout",
     "output_type": "stream",
     "text": [
      "\n",
      "best r2_score= -0.1271355770903189 , corresponding alpha= 0.0031000000000000003\n",
      "number of selected features: 23\n",
      "{'max_r2': -0.1271355770903189, 'best_alpha': 0.0031000000000000003, 'num_features': 23, 'params': [100, 'mse', 5, 3, 2, 'sqrt']}\n"
     ]
    },
    {
     "data": {
      "application/vnd.jupyter.widget-view+json": {
       "model_id": "ee2350cea5ac4b73b2dfcf2a4a0869f2",
       "version_major": 2,
       "version_minor": 0
      },
      "text/plain": [
       "HBox(children=(IntProgress(value=0, description='loop', max=600, style=ProgressStyle(description_width='initia…"
      ]
     },
     "metadata": {},
     "output_type": "display_data"
    },
    {
     "name": "stdout",
     "output_type": "stream",
     "text": [
      "\n",
      "best r2_score= -0.15557475363776743 , corresponding alpha= 0.0066\n",
      "number of selected features: 4\n",
      "{'max_r2': -0.15557475363776743, 'best_alpha': 0.0066, 'num_features': 4, 'params': [100, 'mse', 5, 3, 2, 'auto']}\n"
     ]
    },
    {
     "data": {
      "application/vnd.jupyter.widget-view+json": {
       "model_id": "6b584760c97748d5b3300dd24bd926f0",
       "version_major": 2,
       "version_minor": 0
      },
      "text/plain": [
       "HBox(children=(IntProgress(value=0, description='loop', max=600, style=ProgressStyle(description_width='initia…"
      ]
     },
     "metadata": {},
     "output_type": "display_data"
    },
    {
     "name": "stdout",
     "output_type": "stream",
     "text": [
      "\n",
      "best r2_score= -0.0726525292292998 , corresponding alpha= 0.0066\n",
      "number of selected features: 4\n",
      "{'max_r2': -0.0726525292292998, 'best_alpha': 0.0066, 'num_features': 4, 'params': [150, 'mse', 2, 1, 2, 'sqrt']}\n"
     ]
    },
    {
     "data": {
      "application/vnd.jupyter.widget-view+json": {
       "model_id": "df30059ec7f84e64a2d4e6b7e47f9849",
       "version_major": 2,
       "version_minor": 0
      },
      "text/plain": [
       "HBox(children=(IntProgress(value=0, description='loop', max=600, style=ProgressStyle(description_width='initia…"
      ]
     },
     "metadata": {},
     "output_type": "display_data"
    },
    {
     "name": "stdout",
     "output_type": "stream",
     "text": [
      "\n",
      "best r2_score= -0.07541491929578868 , corresponding alpha= 0.0066\n",
      "number of selected features: 4\n",
      "{'max_r2': -0.07541491929578868, 'best_alpha': 0.0066, 'num_features': 4, 'params': [150, 'mse', 2, 1, 2, 'auto']}\n"
     ]
    },
    {
     "data": {
      "application/vnd.jupyter.widget-view+json": {
       "model_id": "9414e2d39e6c4b3e8de4cf7a000fa767",
       "version_major": 2,
       "version_minor": 0
      },
      "text/plain": [
       "HBox(children=(IntProgress(value=0, description='loop', max=600, style=ProgressStyle(description_width='initia…"
      ]
     },
     "metadata": {},
     "output_type": "display_data"
    },
    {
     "name": "stdout",
     "output_type": "stream",
     "text": [
      "\n",
      "best r2_score= -0.10392668171875226 , corresponding alpha= 0.006699999999999999\n",
      "number of selected features: 4\n",
      "{'max_r2': -0.10392668171875226, 'best_alpha': 0.006699999999999999, 'num_features': 4, 'params': [150, 'mse', 2, 3, 2, 'sqrt']}\n"
     ]
    },
    {
     "data": {
      "application/vnd.jupyter.widget-view+json": {
       "model_id": "2a6da981d06345bbb8941af19e16d5eb",
       "version_major": 2,
       "version_minor": 0
      },
      "text/plain": [
       "HBox(children=(IntProgress(value=0, description='loop', max=600, style=ProgressStyle(description_width='initia…"
      ]
     },
     "metadata": {},
     "output_type": "display_data"
    },
    {
     "name": "stdout",
     "output_type": "stream",
     "text": [
      "\n",
      "best r2_score= -0.133666392543481 , corresponding alpha= 0.0066\n",
      "number of selected features: 4\n",
      "{'max_r2': -0.133666392543481, 'best_alpha': 0.0066, 'num_features': 4, 'params': [150, 'mse', 2, 3, 2, 'auto']}\n"
     ]
    },
    {
     "data": {
      "application/vnd.jupyter.widget-view+json": {
       "model_id": "06a851f8effd4a15bc25f3d3f6db06db",
       "version_major": 2,
       "version_minor": 0
      },
      "text/plain": [
       "HBox(children=(IntProgress(value=0, description='loop', max=600, style=ProgressStyle(description_width='initia…"
      ]
     },
     "metadata": {},
     "output_type": "display_data"
    },
    {
     "name": "stdout",
     "output_type": "stream",
     "text": [
      "\n",
      "best r2_score= -0.07736290310071589 , corresponding alpha= 0.0066\n",
      "number of selected features: 4\n",
      "{'max_r2': -0.07736290310071589, 'best_alpha': 0.0066, 'num_features': 4, 'params': [150, 'mse', 3, 1, 2, 'sqrt']}\n"
     ]
    },
    {
     "data": {
      "application/vnd.jupyter.widget-view+json": {
       "model_id": "226168f4a14d4191b48e589644bafc61",
       "version_major": 2,
       "version_minor": 0
      },
      "text/plain": [
       "HBox(children=(IntProgress(value=0, description='loop', max=600, style=ProgressStyle(description_width='initia…"
      ]
     },
     "metadata": {},
     "output_type": "display_data"
    },
    {
     "name": "stdout",
     "output_type": "stream",
     "text": [
      "\n",
      "best r2_score= -0.09124431275137605 , corresponding alpha= 0.0066\n",
      "number of selected features: 4\n",
      "{'max_r2': -0.09124431275137605, 'best_alpha': 0.0066, 'num_features': 4, 'params': [150, 'mse', 3, 1, 2, 'auto']}\n"
     ]
    },
    {
     "data": {
      "application/vnd.jupyter.widget-view+json": {
       "model_id": "338c5b36d1a74175acaf560e35b0dfcf",
       "version_major": 2,
       "version_minor": 0
      },
      "text/plain": [
       "HBox(children=(IntProgress(value=0, description='loop', max=600, style=ProgressStyle(description_width='initia…"
      ]
     },
     "metadata": {},
     "output_type": "display_data"
    },
    {
     "name": "stdout",
     "output_type": "stream",
     "text": [
      "\n",
      "best r2_score= -0.11598215431788275 , corresponding alpha= 0.0066\n",
      "number of selected features: 4\n",
      "{'max_r2': -0.11598215431788275, 'best_alpha': 0.0066, 'num_features': 4, 'params': [150, 'mse', 3, 3, 2, 'sqrt']}\n"
     ]
    },
    {
     "data": {
      "application/vnd.jupyter.widget-view+json": {
       "model_id": "6f91c1c784b94e549b28ce25de93b887",
       "version_major": 2,
       "version_minor": 0
      },
      "text/plain": [
       "HBox(children=(IntProgress(value=0, description='loop', max=600, style=ProgressStyle(description_width='initia…"
      ]
     },
     "metadata": {},
     "output_type": "display_data"
    },
    {
     "name": "stdout",
     "output_type": "stream",
     "text": [
      "\n",
      "best r2_score= -0.14670992944969158 , corresponding alpha= 0.0066\n",
      "number of selected features: 4\n",
      "{'max_r2': -0.14670992944969158, 'best_alpha': 0.0066, 'num_features': 4, 'params': [150, 'mse', 3, 3, 2, 'auto']}\n"
     ]
    },
    {
     "data": {
      "application/vnd.jupyter.widget-view+json": {
       "model_id": "a5e212e2df9d46bd8802ca69f6a85fe7",
       "version_major": 2,
       "version_minor": 0
      },
      "text/plain": [
       "HBox(children=(IntProgress(value=0, description='loop', max=600, style=ProgressStyle(description_width='initia…"
      ]
     },
     "metadata": {},
     "output_type": "display_data"
    },
    {
     "name": "stdout",
     "output_type": "stream",
     "text": [
      "\n",
      "best r2_score= -0.10809157878572599 , corresponding alpha= 0.0066\n",
      "number of selected features: 4\n",
      "{'max_r2': -0.10809157878572599, 'best_alpha': 0.0066, 'num_features': 4, 'params': [150, 'mse', 5, 1, 2, 'sqrt']}\n"
     ]
    },
    {
     "data": {
      "application/vnd.jupyter.widget-view+json": {
       "model_id": "0780f265cb4e4340a9f98608d38dafb1",
       "version_major": 2,
       "version_minor": 0
      },
      "text/plain": [
       "HBox(children=(IntProgress(value=0, description='loop', max=600, style=ProgressStyle(description_width='initia…"
      ]
     },
     "metadata": {},
     "output_type": "display_data"
    },
    {
     "name": "stdout",
     "output_type": "stream",
     "text": [
      "\n",
      "best r2_score= -0.12460145039005825 , corresponding alpha= 0.0066\n",
      "number of selected features: 4\n",
      "{'max_r2': -0.12460145039005825, 'best_alpha': 0.0066, 'num_features': 4, 'params': [150, 'mse', 5, 1, 2, 'auto']}\n"
     ]
    },
    {
     "data": {
      "application/vnd.jupyter.widget-view+json": {
       "model_id": "3eb716de6cdb4ced82369ded75be476d",
       "version_major": 2,
       "version_minor": 0
      },
      "text/plain": [
       "HBox(children=(IntProgress(value=0, description='loop', max=600, style=ProgressStyle(description_width='initia…"
      ]
     },
     "metadata": {},
     "output_type": "display_data"
    },
    {
     "name": "stdout",
     "output_type": "stream",
     "text": [
      "\n",
      "best r2_score= -0.13927196792528343 , corresponding alpha= 0.0066\n",
      "number of selected features: 4\n",
      "{'max_r2': -0.13927196792528343, 'best_alpha': 0.0066, 'num_features': 4, 'params': [150, 'mse', 5, 3, 2, 'sqrt']}\n"
     ]
    },
    {
     "data": {
      "application/vnd.jupyter.widget-view+json": {
       "model_id": "021056cd09844250bd5d39881ea01573",
       "version_major": 2,
       "version_minor": 0
      },
      "text/plain": [
       "HBox(children=(IntProgress(value=0, description='loop', max=600, style=ProgressStyle(description_width='initia…"
      ]
     },
     "metadata": {},
     "output_type": "display_data"
    },
    {
     "name": "stdout",
     "output_type": "stream",
     "text": [
      "\n",
      "best r2_score= -0.1759318989689411 , corresponding alpha= 0.0066\n",
      "number of selected features: 4\n",
      "{'max_r2': -0.1759318989689411, 'best_alpha': 0.0066, 'num_features': 4, 'params': [150, 'mse', 5, 3, 2, 'auto']}\n"
     ]
    },
    {
     "data": {
      "application/vnd.jupyter.widget-view+json": {
       "model_id": "f3a4da0e413b4ec5bad9678a214577f1",
       "version_major": 2,
       "version_minor": 0
      },
      "text/plain": [
       "HBox(children=(IntProgress(value=0, description='loop', max=600, style=ProgressStyle(description_width='initia…"
      ]
     },
     "metadata": {},
     "output_type": "display_data"
    },
    {
     "name": "stdout",
     "output_type": "stream",
     "text": [
      "\n",
      "best r2_score= -0.07773481775082547 , corresponding alpha= 0.0066\n",
      "number of selected features: 4\n",
      "{'max_r2': -0.07773481775082547, 'best_alpha': 0.0066, 'num_features': 4, 'params': [200, 'mse', 2, 1, 2, 'sqrt']}\n"
     ]
    },
    {
     "data": {
      "application/vnd.jupyter.widget-view+json": {
       "model_id": "e1913072fc60431ba8258d8084755401",
       "version_major": 2,
       "version_minor": 0
      },
      "text/plain": [
       "HBox(children=(IntProgress(value=0, description='loop', max=600, style=ProgressStyle(description_width='initia…"
      ]
     },
     "metadata": {},
     "output_type": "display_data"
    },
    {
     "name": "stdout",
     "output_type": "stream",
     "text": [
      "\n",
      "best r2_score= -0.08266379204887465 , corresponding alpha= 0.0066\n",
      "number of selected features: 4\n",
      "{'max_r2': -0.08266379204887465, 'best_alpha': 0.0066, 'num_features': 4, 'params': [200, 'mse', 2, 1, 2, 'auto']}\n"
     ]
    },
    {
     "data": {
      "application/vnd.jupyter.widget-view+json": {
       "model_id": "9eb29e281c6c4ba3af886eb2961d4abf",
       "version_major": 2,
       "version_minor": 0
      },
      "text/plain": [
       "HBox(children=(IntProgress(value=0, description='loop', max=600, style=ProgressStyle(description_width='initia…"
      ]
     },
     "metadata": {},
     "output_type": "display_data"
    },
    {
     "name": "stdout",
     "output_type": "stream",
     "text": [
      "\n",
      "best r2_score= -0.1072232163056183 , corresponding alpha= 0.006699999999999999\n",
      "number of selected features: 4\n",
      "{'max_r2': -0.1072232163056183, 'best_alpha': 0.006699999999999999, 'num_features': 4, 'params': [200, 'mse', 2, 3, 2, 'sqrt']}\n"
     ]
    },
    {
     "data": {
      "application/vnd.jupyter.widget-view+json": {
       "model_id": "8af7960f0dd340b2a0c5803f11dc74bc",
       "version_major": 2,
       "version_minor": 0
      },
      "text/plain": [
       "HBox(children=(IntProgress(value=0, description='loop', max=600, style=ProgressStyle(description_width='initia…"
      ]
     },
     "metadata": {},
     "output_type": "display_data"
    },
    {
     "name": "stderr",
     "output_type": "stream",
     "text": [
      "IOPub message rate exceeded.\n",
      "The notebook server will temporarily stop sending output\n",
      "to the client in order to avoid crashing it.\n",
      "To change this limit, set the config variable\n",
      "`--NotebookApp.iopub_msg_rate_limit`.\n",
      "\n",
      "Current values:\n",
      "NotebookApp.iopub_msg_rate_limit=1000.0 (msgs/sec)\n",
      "NotebookApp.rate_limit_window=3.0 (secs)\n",
      "\n"
     ]
    },
    {
     "name": "stdout",
     "output_type": "stream",
     "text": [
      "\n",
      "best r2_score= -0.08768345640809698 , corresponding alpha= 0.0066\n",
      "number of selected features: 4\n",
      "{'max_r2': -0.08768345640809698, 'best_alpha': 0.0066, 'num_features': 4, 'params': [200, 'mse', 3, 1, 2, 'sqrt']}\n"
     ]
    },
    {
     "data": {
      "application/vnd.jupyter.widget-view+json": {
       "model_id": "4d6b941b6e8f447ab1db5fd58e5b59b0",
       "version_major": 2,
       "version_minor": 0
      },
      "text/plain": [
       "HBox(children=(IntProgress(value=0, description='loop', max=600, style=ProgressStyle(description_width='initia…"
      ]
     },
     "metadata": {},
     "output_type": "display_data"
    },
    {
     "name": "stdout",
     "output_type": "stream",
     "text": [
      "\n",
      "best r2_score= -0.09520215025701631 , corresponding alpha= 0.0066\n",
      "number of selected features: 4\n",
      "{'max_r2': -0.09520215025701631, 'best_alpha': 0.0066, 'num_features': 4, 'params': [200, 'mse', 3, 1, 2, 'auto']}\n"
     ]
    },
    {
     "data": {
      "application/vnd.jupyter.widget-view+json": {
       "model_id": "7b67b2bab5794279bd63dad64ecd9211",
       "version_major": 2,
       "version_minor": 0
      },
      "text/plain": [
       "HBox(children=(IntProgress(value=0, description='loop', max=600, style=ProgressStyle(description_width='initia…"
      ]
     },
     "metadata": {},
     "output_type": "display_data"
    },
    {
     "name": "stderr",
     "output_type": "stream",
     "text": [
      "IOPub message rate exceeded.\n",
      "The notebook server will temporarily stop sending output\n",
      "to the client in order to avoid crashing it.\n",
      "To change this limit, set the config variable\n",
      "`--NotebookApp.iopub_msg_rate_limit`.\n",
      "\n",
      "Current values:\n",
      "NotebookApp.iopub_msg_rate_limit=1000.0 (msgs/sec)\n",
      "NotebookApp.rate_limit_window=3.0 (secs)\n",
      "\n"
     ]
    },
    {
     "name": "stdout",
     "output_type": "stream",
     "text": [
      "\n",
      "best r2_score= -0.12138176725830037 , corresponding alpha= 0.0066\n",
      "number of selected features: 4\n",
      "{'max_r2': -0.12138176725830037, 'best_alpha': 0.0066, 'num_features': 4, 'params': [200, 'mse', 5, 1, 2, 'sqrt']}\n"
     ]
    },
    {
     "data": {
      "application/vnd.jupyter.widget-view+json": {
       "model_id": "2df4b588170f45929e0a958de261ce76",
       "version_major": 2,
       "version_minor": 0
      },
      "text/plain": [
       "HBox(children=(IntProgress(value=0, description='loop', max=600, style=ProgressStyle(description_width='initia…"
      ]
     },
     "metadata": {},
     "output_type": "display_data"
    },
    {
     "name": "stdout",
     "output_type": "stream",
     "text": [
      "\n",
      "best r2_score= -0.13043426279027032 , corresponding alpha= 0.0066\n",
      "number of selected features: 4\n",
      "{'max_r2': -0.13043426279027032, 'best_alpha': 0.0066, 'num_features': 4, 'params': [200, 'mse', 5, 1, 2, 'auto']}\n"
     ]
    },
    {
     "data": {
      "application/vnd.jupyter.widget-view+json": {
       "model_id": "163e89d2bdd2401d877ebd9b95ca22ef",
       "version_major": 2,
       "version_minor": 0
      },
      "text/plain": [
       "HBox(children=(IntProgress(value=0, description='loop', max=600, style=ProgressStyle(description_width='initia…"
      ]
     },
     "metadata": {},
     "output_type": "display_data"
    },
    {
     "name": "stdout",
     "output_type": "stream",
     "text": [
      "\n",
      "best r2_score= -0.14743946274117362 , corresponding alpha= 0.0029\n",
      "number of selected features: 24\n",
      "{'max_r2': -0.14743946274117362, 'best_alpha': 0.0029, 'num_features': 24, 'params': [200, 'mse', 5, 3, 2, 'sqrt']}\n"
     ]
    },
    {
     "data": {
      "application/vnd.jupyter.widget-view+json": {
       "model_id": "8463ae8ea89d4da99193cc342f2ae8f5",
       "version_major": 2,
       "version_minor": 0
      },
      "text/plain": [
       "HBox(children=(IntProgress(value=0, description='loop', max=600, style=ProgressStyle(description_width='initia…"
      ]
     },
     "metadata": {},
     "output_type": "display_data"
    },
    {
     "name": "stdout",
     "output_type": "stream",
     "text": [
      "\n",
      "best r2_score= -0.18186322346795755 , corresponding alpha= 0.0066\n",
      "number of selected features: 4\n",
      "{'max_r2': -0.18186322346795755, 'best_alpha': 0.0066, 'num_features': 4, 'params': [200, 'mse', 5, 3, 2, 'auto']}\n"
     ]
    }
   ],
   "source": [
    "write_keys = ['max_r2','best_alpha','num_features','params']\n",
    "save_result_path = cfg.get(\"save_result_path\")\n",
    "# save_result_path = \"./results/LassoCD_rf_cdata_nonorm.csv\"\n",
    "result, feature, score, metric = train_lassoCD(X,y,cfg)"
   ]
  },
  {
   "cell_type": "code",
   "execution_count": 440,
   "metadata": {},
   "outputs": [],
   "source": [
    "#record the rows in csv\n",
    "with open(save_result_path,'w') as csv_file:\n",
    "    # write header and rows to csv file\n",
    "    csv_writer = csv.DictWriter(csv_file, write_keys)\n",
    "    csv_writer.writeheader()\n",
    "    csv_writer.writerows(result)"
   ]
  },
  {
   "cell_type": "code",
   "execution_count": 442,
   "metadata": {
    "scrolled": true
   },
   "outputs": [
    {
     "data": {
      "text/html": [
       "<div>\n",
       "<style scoped>\n",
       "    .dataframe tbody tr th:only-of-type {\n",
       "        vertical-align: middle;\n",
       "    }\n",
       "\n",
       "    .dataframe tbody tr th {\n",
       "        vertical-align: top;\n",
       "    }\n",
       "\n",
       "    .dataframe thead th {\n",
       "        text-align: right;\n",
       "    }\n",
       "</style>\n",
       "<table border=\"1\" class=\"dataframe\">\n",
       "  <thead>\n",
       "    <tr style=\"text-align: right;\">\n",
       "      <th></th>\n",
       "      <th>Predict</th>\n",
       "      <th>True</th>\n",
       "    </tr>\n",
       "  </thead>\n",
       "  <tbody>\n",
       "    <tr>\n",
       "      <th>Predict</th>\n",
       "      <td>1.000000</td>\n",
       "      <td>0.170514</td>\n",
       "    </tr>\n",
       "    <tr>\n",
       "      <th>True</th>\n",
       "      <td>0.170514</td>\n",
       "      <td>1.000000</td>\n",
       "    </tr>\n",
       "  </tbody>\n",
       "</table>\n",
       "</div>"
      ],
      "text/plain": [
       "          Predict      True\n",
       "Predict  1.000000  0.170514\n",
       "True     0.170514  1.000000"
      ]
     },
     "execution_count": 442,
     "metadata": {},
     "output_type": "execute_result"
    }
   ],
   "source": [
    "from tkinter import _flatten\n",
    "pred = list(_flatten(score[0]))\n",
    "true = list(_flatten(score[1]))\n",
    "df_score = pd.DataFrame({'Predict':pred,'True':true})\n",
    "df_score.corr()"
   ]
  },
  {
   "cell_type": "markdown",
   "metadata": {},
   "source": [
    "### pdata"
   ]
  },
  {
   "cell_type": "code",
   "execution_count": 13,
   "metadata": {},
   "outputs": [],
   "source": [
    "X = pdata_maxabs\n",
    "y = cog_norm\n",
    "yamlfile = 'config/lassoCD_rf_pdata.yaml'\n",
    "with open(yamlfile, 'r') as f:\n",
    "    cfg = yaml.load(f, Loader=yaml.FullLoader)"
   ]
  },
  {
   "cell_type": "code",
   "execution_count": 18,
   "metadata": {},
   "outputs": [
    {
     "data": {
      "application/vnd.jupyter.widget-view+json": {
       "model_id": "40f3d5921fdc46d4bf05150b993632b3",
       "version_major": 2,
       "version_minor": 0
      },
      "text/plain": [
       "HBox(children=(IntProgress(value=0, description='loop', max=800, style=ProgressStyle(description_width='initia…"
      ]
     },
     "metadata": {},
     "output_type": "display_data"
    },
    {
     "name": "stdout",
     "output_type": "stream",
     "text": [
      "\n",
      "best r2_score= 0.04191221691956336 , corresponding alpha= 0.0034999999999999996\n",
      "number of selected features: 43\n",
      "{'max_r2': 0.04191221691956336, 'best_alpha': 0.0034999999999999996, 'num_features': 43, 'params': [150, 'mse', 3, 1, 2, 'sqrt']}\n"
     ]
    }
   ],
   "source": [
    "write_keys = ['max_r2','best_alpha','num_features','params']\n",
    "save_result_path = cfg.get(\"save_result_path\")\n",
    "result, feature, score, metric = train_lassoCD(X,y,cfg)"
   ]
  },
  {
   "cell_type": "code",
   "execution_count": 19,
   "metadata": {},
   "outputs": [
    {
     "data": {
      "text/html": [
       "<div>\n",
       "<style scoped>\n",
       "    .dataframe tbody tr th:only-of-type {\n",
       "        vertical-align: middle;\n",
       "    }\n",
       "\n",
       "    .dataframe tbody tr th {\n",
       "        vertical-align: top;\n",
       "    }\n",
       "\n",
       "    .dataframe thead th {\n",
       "        text-align: right;\n",
       "    }\n",
       "</style>\n",
       "<table border=\"1\" class=\"dataframe\">\n",
       "  <thead>\n",
       "    <tr style=\"text-align: right;\">\n",
       "      <th></th>\n",
       "      <th>Predict</th>\n",
       "      <th>True</th>\n",
       "    </tr>\n",
       "  </thead>\n",
       "  <tbody>\n",
       "    <tr>\n",
       "      <th>Predict</th>\n",
       "      <td>1.000000</td>\n",
       "      <td>0.287676</td>\n",
       "    </tr>\n",
       "    <tr>\n",
       "      <th>True</th>\n",
       "      <td>0.287676</td>\n",
       "      <td>1.000000</td>\n",
       "    </tr>\n",
       "  </tbody>\n",
       "</table>\n",
       "</div>"
      ],
      "text/plain": [
       "          Predict      True\n",
       "Predict  1.000000  0.287676\n",
       "True     0.287676  1.000000"
      ]
     },
     "execution_count": 19,
     "metadata": {},
     "output_type": "execute_result"
    }
   ],
   "source": [
    "from tkinter import _flatten\n",
    "pred = list(_flatten(score[0]))\n",
    "true = list(_flatten(score[1]))\n",
    "df_score = pd.DataFrame({'Predict':pred,'True':true})\n",
    "df_score.corr()"
   ]
  },
  {
   "cell_type": "markdown",
   "metadata": {},
   "source": [
    "## Elastic Net"
   ]
  },
  {
   "cell_type": "code",
   "execution_count": 15,
   "metadata": {},
   "outputs": [],
   "source": [
    "def elastic_net(X, y, ll1, ul1, step1, ll2, ul2, step2, state, score_min, score_max, rf_params):\n",
    "    kf = KFold(n_splits=10,shuffle=True,random_state=state)\n",
    "    feature = []\n",
    "    score = []\n",
    "    metric = []\n",
    "    m_mse = []\n",
    "    m_r2 = []\n",
    "    pbar = tnrange(step1*step2*10, desc='loop')\n",
    "    inp = [list(np.linspace(ll1,ul1,step1)), list(np.linspace(ll2,ul2,step2))]\n",
    "    g = [i for i in itertools.product(*inp)]\n",
    "    ilist = []\n",
    "    for k in range(len(g)):\n",
    "        mse = []\n",
    "        r2 = []\n",
    "        fea = []\n",
    "        sco_pred = []\n",
    "        sco_true = []\n",
    "        for train_index, test_index in kf.split(X):\n",
    "            y_train, y_test_raw = y[train_index], y[test_index]\n",
    "            X_train_tmp, X_test_tmp = X[train_index], X[test_index]\n",
    "            \n",
    "            regr = ElasticNet(random_state=state,alpha=g[k][0],l1_ratio=g[k][1])\n",
    "            regr.fit(X_train_tmp, np.ravel(y_train))\n",
    "            fea_idx = [i for i,x in enumerate(regr.coef_) if x>0]\n",
    "            X_train = X_train_tmp[:,fea_idx]\n",
    "            X_test = X_test_tmp[:,fea_idx]\n",
    "            y_test_raw = list(list(zip(*y_test_raw))[0])\n",
    "\n",
    "            rRF = RandomForestRegressor(n_estimators=rf_params[0], \n",
    "                                        criterion=rf_params[1], \n",
    "                                        max_depth = rf_params[2], \n",
    "                                        min_samples_leaf = rf_params[3], \n",
    "                                        min_samples_split = rf_params[4], \n",
    "                                        max_features=rf_params[5], \n",
    "                                        random_state=state)\n",
    "            rRF.fit(X_train, np.ravel(y_train))\n",
    "            y_test_pred_raw = rRF.predict(X_test)\n",
    "            y_test_pred = cal_score(y_test_pred_raw,score_max,score_min)\n",
    "            y_test = cal_score(y_test_raw,score_max,score_min)\n",
    "            mse.append(mean_squared_error(y_test, y_test_pred))\n",
    "            r2.append(r2_score(y_test, y_test_pred))\n",
    "            fea.append(fea_idx)\n",
    "            sco_pred.append(list(y_test_pred))\n",
    "            sco_true.append(list(y_test))\n",
    "            pbar.update(1)\n",
    "        feature.append(fea)\n",
    "        score.append((sco_pred, sco_true))\n",
    "        metric.append((mse,r2))\n",
    "        m_mse.append(sum(mse)/10)  # mean mse trace for all alpha\n",
    "        m_r2.append(sum(r2)/10)    # mean r2 trace for all alpha\n",
    "        ilist.append(g[k])\n",
    "    a = m_r2.index(max(m_r2))\n",
    "    feature_fd = [len(feature[a][i]) for i in range(10)]\n",
    "    num_feature = int(np.mean(feature_fd))\n",
    "    df = {'max_r2': m_r2[a], 'best_alpha': ilist[a], 'num_features': num_feature}\n",
    "    pbar.close()\n",
    "#     plt.figure()\n",
    "#     plt.scatter(np.log10(np.array(g)[:,0]),np.array(g)[:,1],c=m_r2,marker='.',cmap='copper_r')\n",
    "#     plt.xlabel('$alpha$')\n",
    "#     plt.ylabel('$L1 ratio$')\n",
    "#     print(np.array(ilist),m_r2)\n",
    "#     plt.axis([ll1-(ul1-ll1)*0.05,ul1+(ul1-ll1)*0.05,ll2-(ul2-ll2)*0.05,ul2+(ul2-ll2)*0.05])\n",
    "    print('best r2_score=',m_r2[a],', corresponding alpha=', ilist[a])\n",
    "    print('number of selected features:',num_feature)\n",
    "    return df, feature[a], score[a], metric[a]"
   ]
  },
  {
   "cell_type": "code",
   "execution_count": 16,
   "metadata": {},
   "outputs": [],
   "source": [
    "def train_elastic_net(X, y, cfg):\n",
    "    ## set configs    \n",
    "    result = []\n",
    "    ll1 = cfg.get(\"ll1\")\n",
    "    ul1 = cfg.get(\"ul1\")\n",
    "    step1 = cfg.get(\"step1\")\n",
    "    ll2 = cfg.get(\"ll2\")\n",
    "    ul2 = cfg.get(\"ul2\")\n",
    "    step2 = cfg.get(\"step2\")\n",
    "    state = cfg.get(\"random_state\")\n",
    "    score_min = cfg.get(\"score_min\")\n",
    "    score_max = cfg.get(\"score_max\")\n",
    "    rf_cv = cfg.get(\"rf_params_set\")\n",
    "    rf_params_list = to_sets(rf_cv)\n",
    "    for rf_params in rf_params_list:\n",
    "        result_row, feature, score, metric = elastic_net(X, y, ll1, ul1, step1, ll2, ul2, step2, state, score_min, score_max, rf_params)\n",
    "        result_row.update({\"params\":rf_params})\n",
    "        result.append(result_row)\n",
    "        print(result_row)\n",
    "    return result, feature, score, metric"
   ]
  },
  {
   "cell_type": "markdown",
   "metadata": {},
   "source": [
    "### cdata"
   ]
  },
  {
   "cell_type": "code",
   "execution_count": 595,
   "metadata": {},
   "outputs": [],
   "source": [
    "X = cdata\n",
    "y = cog_norm\n",
    "yamlfile = 'config/elastic_net_rf_cdata.yaml'\n",
    "with open(yamlfile, 'r') as f:\n",
    "    cfg = yaml.load(f, Loader=yaml.FullLoader)"
   ]
  },
  {
   "cell_type": "code",
   "execution_count": 596,
   "metadata": {
    "scrolled": false
   },
   "outputs": [
    {
     "data": {
      "application/vnd.jupyter.widget-view+json": {
       "model_id": "9db35d7ffa31447fbf708800967d3939",
       "version_major": 2,
       "version_minor": 0
      },
      "text/plain": [
       "HBox(children=(IntProgress(value=0, description='loop', max=800, style=ProgressStyle(description_width='initia…"
      ]
     },
     "metadata": {},
     "output_type": "display_data"
    },
    {
     "name": "stdout",
     "output_type": "stream",
     "text": [
      "\n",
      "best r2_score= -0.0016048120477237249 , corresponding alpha= (1e-06, 0.8200000000000001)\n",
      "number of selected features: 1048\n",
      "{'max_r2': -0.0016048120477237249, 'best_alpha': (1e-06, 0.8200000000000001), 'num_features': 1048, 'params': [100, 'mse', 3, 1, 2, 'sqrt']}\n"
     ]
    }
   ],
   "source": [
    "write_keys = ['max_r2','best_alpha','num_features','params']\n",
    "save_result_path = cfg.get(\"save_result_path\")\n",
    "# save_result_path = \"./results/LassoCD_rf_cdata_nonorm.csv\"\n",
    "result, feature, score, metric = train_elastic_net(X,y,cfg)"
   ]
  },
  {
   "cell_type": "code",
   "execution_count": 597,
   "metadata": {},
   "outputs": [],
   "source": [
    "#record the rows in csv\n",
    "with open(save_result_path,'w') as csv_file:\n",
    "    # write header and rows to csv file\n",
    "    csv_writer = csv.DictWriter(csv_file, write_keys)\n",
    "    csv_writer.writeheader()\n",
    "    csv_writer.writerows(result)"
   ]
  },
  {
   "cell_type": "code",
   "execution_count": 503,
   "metadata": {},
   "outputs": [
    {
     "data": {
      "text/html": [
       "<div>\n",
       "<style scoped>\n",
       "    .dataframe tbody tr th:only-of-type {\n",
       "        vertical-align: middle;\n",
       "    }\n",
       "\n",
       "    .dataframe tbody tr th {\n",
       "        vertical-align: top;\n",
       "    }\n",
       "\n",
       "    .dataframe thead th {\n",
       "        text-align: right;\n",
       "    }\n",
       "</style>\n",
       "<table border=\"1\" class=\"dataframe\">\n",
       "  <thead>\n",
       "    <tr style=\"text-align: right;\">\n",
       "      <th></th>\n",
       "      <th>Predict</th>\n",
       "      <th>True</th>\n",
       "    </tr>\n",
       "  </thead>\n",
       "  <tbody>\n",
       "    <tr>\n",
       "      <th>Predict</th>\n",
       "      <td>1.000000</td>\n",
       "      <td>0.147553</td>\n",
       "    </tr>\n",
       "    <tr>\n",
       "      <th>True</th>\n",
       "      <td>0.147553</td>\n",
       "      <td>1.000000</td>\n",
       "    </tr>\n",
       "  </tbody>\n",
       "</table>\n",
       "</div>"
      ],
      "text/plain": [
       "          Predict      True\n",
       "Predict  1.000000  0.147553\n",
       "True     0.147553  1.000000"
      ]
     },
     "execution_count": 503,
     "metadata": {},
     "output_type": "execute_result"
    }
   ],
   "source": [
    "from tkinter import _flatten\n",
    "pred = list(_flatten(score[0]))\n",
    "true = list(_flatten(score[1]))\n",
    "df_score = pd.DataFrame({'Predict':pred,'True':true})\n",
    "df_score.corr()"
   ]
  },
  {
   "cell_type": "code",
   "execution_count": 599,
   "metadata": {},
   "outputs": [
    {
     "data": {
      "text/plain": [
       "Text(0.5, 0, '$R^2\\\\;Plot$')"
      ]
     },
     "execution_count": 599,
     "metadata": {},
     "output_type": "execute_result"
    },
    {
     "data": {
      "image/png": "[encoded data removed]",
      "text/plain": [
       "<Figure size 432x288 with 1 Axes>"
      ]
     },
     "metadata": {},
     "output_type": "display_data"
    }
   ],
   "source": [
    "plt.figure()\n",
    "plt.plot([0,49],[0,49])\n",
    "plt.scatter(pred,true,color='#97CBFF',marker='v')\n",
    "plt.xlabel('$R^2\\;Plot$')"
   ]
  },
  {
   "cell_type": "markdown",
   "metadata": {},
   "source": [
    "### pdata"
   ]
  },
  {
   "cell_type": "code",
   "execution_count": 17,
   "metadata": {},
   "outputs": [],
   "source": [
    "X = pdata_maxabs\n",
    "y = cog_norm\n",
    "yamlfile = 'config/elastic_net_rf_pdata.yaml'\n",
    "with open(yamlfile, 'r') as f:\n",
    "    cfg = yaml.load(f, Loader=yaml.FullLoader)"
   ]
  },
  {
   "cell_type": "code",
   "execution_count": null,
   "metadata": {},
   "outputs": [],
   "source": [
    "write_keys = ['max_r2','best_alpha','num_features','params']\n",
    "save_result_path = cfg.get(\"save_result_path\")\n",
    "# save_result_path = \"./results/LassoCD_rf_cdata_nonorm.csv\"\n",
    "result, feature, score, metric = train_elastic_net(X,y,cfg)"
   ]
  },
  {
   "cell_type": "code",
   "execution_count": null,
   "metadata": {},
   "outputs": [],
   "source": [
    "#record the rows in csv\n",
    "with open(save_result_path,'w') as csv_file:\n",
    "    # write header and rows to csv file\n",
    "    csv_writer = csv.DictWriter(csv_file, write_keys)\n",
    "    csv_writer.writeheader()\n",
    "    csv_writer.writerows(result)"
   ]
  },
  {
   "cell_type": "code",
   "execution_count": null,
   "metadata": {},
   "outputs": [],
   "source": [
    "from tkinter import _flatten\n",
    "pred = list(_flatten(score[0]))\n",
    "true = list(_flatten(score[1]))\n",
    "df_score = pd.DataFrame({'Predict':pred,'True':true})\n",
    "df_score.corr()"
   ]
  },
  {
   "cell_type": "code",
   "execution_count": null,
   "metadata": {},
   "outputs": [],
   "source": [
    "plt.figure()\n",
    "plt.plot([0,49],[0,49])\n",
    "plt.scatter(pred,true,color='#97CBFF',marker='v')\n",
    "plt.xlabel('$R^2\\;Plot$')"
   ]
  },
  {
   "cell_type": "markdown",
   "metadata": {},
   "source": [
    "## Single kernel RFE"
   ]
  },
  {
   "cell_type": "code",
   "execution_count": 11,
   "metadata": {},
   "outputs": [],
   "source": [
    "from sklearn.svm import SVR\n",
    "from sklearn.feature_selection import RFE"
   ]
  },
  {
   "cell_type": "code",
   "execution_count": 12,
   "metadata": {},
   "outputs": [],
   "source": [
    "def svmrfe(X, y, ll, ul, state, score_min, score_max, rf_params):\n",
    "    kf = KFold(n_splits=10,shuffle=True,random_state=state)\n",
    "    score = []\n",
    "    R2 = []\n",
    "    MSE = []\n",
    "    fmap = []\n",
    "    pbar = tnrange((ul-ll)*10, desc='loop')\n",
    "    ilist = range(ll,ul)\n",
    "    for train_index, test_index in kf.split(X):\n",
    "        mse = []\n",
    "        r2 = []\n",
    "        sco = []\n",
    "        y_train, y_test_raw = y[train_index], y[test_index]\n",
    "        X_train_tmp, X_test_tmp = X[train_index], X[test_index]\n",
    "        y_test_raw = list(list(zip(*y_test_raw))[0])\n",
    "        svr_rfe = SVR(kernel='linear')\n",
    "        rfe = RFE(estimator=svr_rfe, n_features_to_select=1, step=1)\n",
    "        rfe.fit(X_train_tmp, y_train)\n",
    "        importance = np.argsort(rfe.ranking_)\n",
    "        fmap.append(importance)       \n",
    "        for i in ilist:\n",
    "            X_train = X_train_tmp[:,importance[:i]]\n",
    "            X_test = X_test_tmp[:,importance[:i]]\n",
    "            rRF = RandomForestRegressor(n_estimators=rf_params[0], \n",
    "                                        criterion=rf_params[1], \n",
    "                                        max_depth = rf_params[2], \n",
    "                                        min_samples_leaf = rf_params[3], \n",
    "                                        min_samples_split = rf_params[4], \n",
    "                                        max_features=rf_params[5], \n",
    "                                        random_state=state)\n",
    "            rRF.fit(X_train, np.ravel(y_train))\n",
    "            y_test_pred_raw = rRF.predict(X_test)\n",
    "            y_test_pred = cal_score(y_test_pred_raw,score_max,score_min)\n",
    "            y_test = cal_score(y_test_raw,score_max,score_min)\n",
    "            mse.append(mean_squared_error(y_test, y_test_pred))\n",
    "            r2.append(r2_score(y_test, y_test_pred))\n",
    "            sco.append((list(y_test_pred), list(y_test)))\n",
    "            pbar.update(1)\n",
    "        R2.append(r2)\n",
    "        score.append(sco)\n",
    "        MSE.append(mse)\n",
    "    m_r2 = np.mean(np.array(R2), axis = 0)\n",
    "    idx = np.argmax(m_r2)\n",
    "    metric = (np.array(R2)[:,idx], np.array(MSE)[:,idx])\n",
    "    feature_fd = [list(fmap[i][:ilist[idx]]) for i in range(10)]\n",
    "    score_pred = [score[i][idx][0] for i in range(10)]\n",
    "    score_true = [score[i][idx][1] for i in range(10)]\n",
    "    score_fd = [score_pred, score_true]\n",
    "    df = {'max_r2': m_r2[idx],'num_features': ilist[idx]}\n",
    "    pbar.close()\n",
    "#     plt.figure()\n",
    "#     plt.plot(ilist,m_r2)\n",
    "#     plt.xlabel('$alpha$')\n",
    "#     plt.ylabel('$R^2$')\n",
    "#     print('best r2_score=',m_r2[idx])\n",
    "#     print('number of selected features:',ilist[idx])\n",
    "    return df, feature_fd, score_fd, metric"
   ]
  },
  {
   "cell_type": "code",
   "execution_count": 13,
   "metadata": {},
   "outputs": [],
   "source": [
    "def train_svmrfe(X, y, cfg):\n",
    "    ## set configs    \n",
    "    result = []\n",
    "    ll = cfg.get(\"ll\")\n",
    "    ul = cfg.get(\"ul\")\n",
    "    step = cfg.get(\"step\")\n",
    "    state = cfg.get(\"random_state\")\n",
    "    score_min = cfg.get(\"score_min\")\n",
    "    score_max = cfg.get(\"score_max\")\n",
    "    rf_cv = cfg.get(\"rf_params_set\")\n",
    "    rf_params_list = to_sets(rf_cv)\n",
    "    for rf_params in rf_params_list:\n",
    "        result_row, feature, score, metric = svmrfe(X, y, ll, ul, state, score_min, score_max, rf_params)\n",
    "        result_row.update({\"params\":rf_params})\n",
    "        result.append(result_row)\n",
    "        print(result_row)\n",
    "    return result, feature, score, metric"
   ]
  },
  {
   "cell_type": "markdown",
   "metadata": {},
   "source": [
    "### xdata"
   ]
  },
  {
   "cell_type": "code",
   "execution_count": 75,
   "metadata": {},
   "outputs": [],
   "source": [
    "X = xdata_maxabs\n",
    "y = cog_norm\n",
    "yamlfile = 'config/svmrfe_rf_xdata.yaml'\n",
    "with open(yamlfile, 'r') as f:\n",
    "    cfg = yaml.load(f, Loader=yaml.FullLoader)"
   ]
  },
  {
   "cell_type": "code",
   "execution_count": 76,
   "metadata": {
    "scrolled": true
   },
   "outputs": [
    {
     "data": {
      "application/vnd.jupyter.widget-view+json": {
       "model_id": "a8666ba11afc41e99b0c27c9f3e0c89f",
       "version_major": 2,
       "version_minor": 0
      },
      "text/plain": [
       "HBox(children=(IntProgress(value=0, description='loop', max=690, style=ProgressStyle(description_width='initia…"
      ]
     },
     "metadata": {},
     "output_type": "display_data"
    },
    {
     "name": "stdout",
     "output_type": "stream",
     "text": [
      "\n",
      "{'max_r2': -0.018576454720408274, 'num_features': 2, 'params': [50, 'mse', 2, 1, 2, 'sqrt']}\n"
     ]
    },
    {
     "data": {
      "application/vnd.jupyter.widget-view+json": {
       "model_id": "4bc4fe5dff3b4ee68512dbe5af74b3f7",
       "version_major": 2,
       "version_minor": 0
      },
      "text/plain": [
       "HBox(children=(IntProgress(value=0, description='loop', max=690, style=ProgressStyle(description_width='initia…"
      ]
     },
     "metadata": {},
     "output_type": "display_data"
    },
    {
     "name": "stdout",
     "output_type": "stream",
     "text": [
      "\n",
      "{'max_r2': -0.07620420050914276, 'num_features': 2, 'params': [50, 'mse', 2, 1, 2, 'auto']}\n"
     ]
    },
    {
     "data": {
      "application/vnd.jupyter.widget-view+json": {
       "model_id": "d76583d512294ebf9259085a12e0d96a",
       "version_major": 2,
       "version_minor": 0
      },
      "text/plain": [
       "HBox(children=(IntProgress(value=0, description='loop', max=690, style=ProgressStyle(description_width='initia…"
      ]
     },
     "metadata": {},
     "output_type": "display_data"
    },
    {
     "name": "stdout",
     "output_type": "stream",
     "text": [
      "\n",
      "{'max_r2': -0.013018069872660765, 'num_features': 55, 'params': [50, 'mse', 2, 2, 2, 'sqrt']}\n"
     ]
    },
    {
     "data": {
      "application/vnd.jupyter.widget-view+json": {
       "model_id": "69862f2dc40744a3b97d40bc873aead4",
       "version_major": 2,
       "version_minor": 0
      },
      "text/plain": [
       "HBox(children=(IntProgress(value=0, description='loop', max=690, style=ProgressStyle(description_width='initia…"
      ]
     },
     "metadata": {},
     "output_type": "display_data"
    },
    {
     "name": "stdout",
     "output_type": "stream",
     "text": [
      "\n",
      "{'max_r2': -0.08335386835420072, 'num_features': 2, 'params': [50, 'mse', 2, 2, 2, 'auto']}\n"
     ]
    },
    {
     "data": {
      "application/vnd.jupyter.widget-view+json": {
       "model_id": "4c93fe6bbb9a4975b9ec08011951fb66",
       "version_major": 2,
       "version_minor": 0
      },
      "text/plain": [
       "HBox(children=(IntProgress(value=0, description='loop', max=690, style=ProgressStyle(description_width='initia…"
      ]
     },
     "metadata": {},
     "output_type": "display_data"
    },
    {
     "name": "stdout",
     "output_type": "stream",
     "text": [
      "\n",
      "{'max_r2': 0.0009329611348650735, 'num_features': 52, 'params': [50, 'mse', 2, 3, 2, 'sqrt']}\n"
     ]
    },
    {
     "data": {
      "application/vnd.jupyter.widget-view+json": {
       "model_id": "24c385daf0dc44ec87c76defeecafeae",
       "version_major": 2,
       "version_minor": 0
      },
      "text/plain": [
       "HBox(children=(IntProgress(value=0, description='loop', max=690, style=ProgressStyle(description_width='initia…"
      ]
     },
     "metadata": {},
     "output_type": "display_data"
    },
    {
     "name": "stdout",
     "output_type": "stream",
     "text": [
      "\n",
      "{'max_r2': -0.03757910242133532, 'num_features': 44, 'params': [50, 'mse', 2, 3, 2, 'auto']}\n"
     ]
    },
    {
     "data": {
      "application/vnd.jupyter.widget-view+json": {
       "model_id": "368b8af397924c058e394e5c7303dfd1",
       "version_major": 2,
       "version_minor": 0
      },
      "text/plain": [
       "HBox(children=(IntProgress(value=0, description='loop', max=690, style=ProgressStyle(description_width='initia…"
      ]
     },
     "metadata": {},
     "output_type": "display_data"
    },
    {
     "name": "stdout",
     "output_type": "stream",
     "text": [
      "\n",
      "{'max_r2': -0.03491780137158296, 'num_features': 61, 'params': [50, 'mse', 3, 1, 2, 'sqrt']}\n"
     ]
    },
    {
     "data": {
      "application/vnd.jupyter.widget-view+json": {
       "model_id": "21fedecf59a540b3ac7197a8b7fa556c",
       "version_major": 2,
       "version_minor": 0
      },
      "text/plain": [
       "HBox(children=(IntProgress(value=0, description='loop', max=690, style=ProgressStyle(description_width='initia…"
      ]
     },
     "metadata": {},
     "output_type": "display_data"
    },
    {
     "name": "stdout",
     "output_type": "stream",
     "text": [
      "\n",
      "{'max_r2': -0.1452583559860646, 'num_features': 23, 'params': [50, 'mse', 3, 1, 2, 'auto']}\n"
     ]
    },
    {
     "data": {
      "application/vnd.jupyter.widget-view+json": {
       "model_id": "8496a7fae1d54b2fa1c133e7d9e38f5a",
       "version_major": 2,
       "version_minor": 0
      },
      "text/plain": [
       "HBox(children=(IntProgress(value=0, description='loop', max=690, style=ProgressStyle(description_width='initia…"
      ]
     },
     "metadata": {},
     "output_type": "display_data"
    },
    {
     "name": "stdout",
     "output_type": "stream",
     "text": [
      "\n",
      "{'max_r2': -0.01837473374416323, 'num_features': 61, 'params': [50, 'mse', 3, 2, 2, 'sqrt']}\n"
     ]
    },
    {
     "data": {
      "application/vnd.jupyter.widget-view+json": {
       "model_id": "7a397187655e4b269bef90410221f2e8",
       "version_major": 2,
       "version_minor": 0
      },
      "text/plain": [
       "HBox(children=(IntProgress(value=0, description='loop', max=690, style=ProgressStyle(description_width='initia…"
      ]
     },
     "metadata": {},
     "output_type": "display_data"
    },
    {
     "name": "stdout",
     "output_type": "stream",
     "text": [
      "\n",
      "{'max_r2': -0.11760130413991103, 'num_features': 44, 'params': [50, 'mse', 3, 2, 2, 'auto']}\n"
     ]
    },
    {
     "data": {
      "application/vnd.jupyter.widget-view+json": {
       "model_id": "8b48f527a73f48dfa162eb878179eee8",
       "version_major": 2,
       "version_minor": 0
      },
      "text/plain": [
       "HBox(children=(IntProgress(value=0, description='loop', max=690, style=ProgressStyle(description_width='initia…"
      ]
     },
     "metadata": {},
     "output_type": "display_data"
    },
    {
     "name": "stdout",
     "output_type": "stream",
     "text": [
      "\n",
      "{'max_r2': -0.0013239439303895707, 'num_features': 24, 'params': [50, 'mse', 3, 3, 2, 'sqrt']}\n"
     ]
    },
    {
     "data": {
      "application/vnd.jupyter.widget-view+json": {
       "model_id": "f18581253ac7410ab8d96dc4fc34c0de",
       "version_major": 2,
       "version_minor": 0
      },
      "text/plain": [
       "HBox(children=(IntProgress(value=0, description='loop', max=690, style=ProgressStyle(description_width='initia…"
      ]
     },
     "metadata": {},
     "output_type": "display_data"
    },
    {
     "name": "stdout",
     "output_type": "stream",
     "text": [
      "\n",
      "{'max_r2': -0.06515276770152742, 'num_features': 44, 'params': [50, 'mse', 3, 3, 2, 'auto']}\n"
     ]
    },
    {
     "data": {
      "application/vnd.jupyter.widget-view+json": {
       "model_id": "dfacc6a28a594fa391f4bea122857654",
       "version_major": 2,
       "version_minor": 0
      },
      "text/plain": [
       "HBox(children=(IntProgress(value=0, description='loop', max=690, style=ProgressStyle(description_width='initia…"
      ]
     },
     "metadata": {},
     "output_type": "display_data"
    },
    {
     "name": "stdout",
     "output_type": "stream",
     "text": [
      "\n",
      "{'max_r2': -0.02602738072991225, 'num_features': 43, 'params': [50, 'mse', 5, 1, 2, 'sqrt']}\n"
     ]
    },
    {
     "data": {
      "application/vnd.jupyter.widget-view+json": {
       "model_id": "05f3347d80564317ac57c7371dfa343b",
       "version_major": 2,
       "version_minor": 0
      },
      "text/plain": [
       "HBox(children=(IntProgress(value=0, description='loop', max=690, style=ProgressStyle(description_width='initia…"
      ]
     },
     "metadata": {},
     "output_type": "display_data"
    },
    {
     "name": "stdout",
     "output_type": "stream",
     "text": [
      "\n",
      "{'max_r2': -0.1436231012063763, 'num_features': 35, 'params': [50, 'mse', 5, 1, 2, 'auto']}\n"
     ]
    },
    {
     "data": {
      "application/vnd.jupyter.widget-view+json": {
       "model_id": "c538b4f017544d8aa665f0112979e9cd",
       "version_major": 2,
       "version_minor": 0
      },
      "text/plain": [
       "HBox(children=(IntProgress(value=0, description='loop', max=690, style=ProgressStyle(description_width='initia…"
      ]
     },
     "metadata": {},
     "output_type": "display_data"
    },
    {
     "name": "stdout",
     "output_type": "stream",
     "text": [
      "\n",
      "{'max_r2': -0.007956045502485798, 'num_features': 35, 'params': [50, 'mse', 5, 2, 2, 'sqrt']}\n"
     ]
    },
    {
     "data": {
      "application/vnd.jupyter.widget-view+json": {
       "model_id": "98de78a67ff94affb09feeffcafbde4f",
       "version_major": 2,
       "version_minor": 0
      },
      "text/plain": [
       "HBox(children=(IntProgress(value=0, description='loop', max=690, style=ProgressStyle(description_width='initia…"
      ]
     },
     "metadata": {},
     "output_type": "display_data"
    },
    {
     "name": "stdout",
     "output_type": "stream",
     "text": [
      "\n",
      "{'max_r2': -0.10998438366687327, 'num_features': 45, 'params': [50, 'mse', 5, 2, 2, 'auto']}\n"
     ]
    },
    {
     "data": {
      "application/vnd.jupyter.widget-view+json": {
       "model_id": "ff984b0ef5874a8ba72b5f7f687364a2",
       "version_major": 2,
       "version_minor": 0
      },
      "text/plain": [
       "HBox(children=(IntProgress(value=0, description='loop', max=690, style=ProgressStyle(description_width='initia…"
      ]
     },
     "metadata": {},
     "output_type": "display_data"
    },
    {
     "name": "stdout",
     "output_type": "stream",
     "text": [
      "\n",
      "{'max_r2': 0.01599670298957586, 'num_features': 61, 'params': [50, 'mse', 5, 3, 2, 'sqrt']}\n"
     ]
    },
    {
     "data": {
      "application/vnd.jupyter.widget-view+json": {
       "model_id": "14a375f6b42a4f4f89816901f9e8a0ac",
       "version_major": 2,
       "version_minor": 0
      },
      "text/plain": [
       "HBox(children=(IntProgress(value=0, description='loop', max=690, style=ProgressStyle(description_width='initia…"
      ]
     },
     "metadata": {},
     "output_type": "display_data"
    },
    {
     "name": "stdout",
     "output_type": "stream",
     "text": [
      "\n",
      "{'max_r2': -0.055982532742061365, 'num_features': 45, 'params': [50, 'mse', 5, 3, 2, 'auto']}\n"
     ]
    },
    {
     "data": {
      "application/vnd.jupyter.widget-view+json": {
       "model_id": "f7c90e355371453d889030851890f800",
       "version_major": 2,
       "version_minor": 0
      },
      "text/plain": [
       "HBox(children=(IntProgress(value=0, description='loop', max=690, style=ProgressStyle(description_width='initia…"
      ]
     },
     "metadata": {},
     "output_type": "display_data"
    },
    {
     "name": "stdout",
     "output_type": "stream",
     "text": [
      "\n",
      "{'max_r2': -0.033333215091437406, 'num_features': 39, 'params': [50, 'mse', 15, 1, 2, 'sqrt']}\n"
     ]
    },
    {
     "data": {
      "application/vnd.jupyter.widget-view+json": {
       "model_id": "0a608b0f979f4d78be1c38e31bc25de6",
       "version_major": 2,
       "version_minor": 0
      },
      "text/plain": [
       "HBox(children=(IntProgress(value=0, description='loop', max=690, style=ProgressStyle(description_width='initia…"
      ]
     },
     "metadata": {},
     "output_type": "display_data"
    },
    {
     "name": "stdout",
     "output_type": "stream",
     "text": [
      "\n",
      "{'max_r2': -0.1639648387097373, 'num_features': 56, 'params': [50, 'mse', 15, 1, 2, 'auto']}\n"
     ]
    },
    {
     "data": {
      "application/vnd.jupyter.widget-view+json": {
       "model_id": "00463030b7694fe3b6d702df43066efb",
       "version_major": 2,
       "version_minor": 0
      },
      "text/plain": [
       "HBox(children=(IntProgress(value=0, description='loop', max=690, style=ProgressStyle(description_width='initia…"
      ]
     },
     "metadata": {},
     "output_type": "display_data"
    },
    {
     "name": "stdout",
     "output_type": "stream",
     "text": [
      "\n",
      "{'max_r2': -0.018881068302873817, 'num_features': 55, 'params': [50, 'mse', 15, 2, 2, 'sqrt']}\n"
     ]
    },
    {
     "data": {
      "application/vnd.jupyter.widget-view+json": {
       "model_id": "98490ebd30044cd286a73387fdcd32f9",
       "version_major": 2,
       "version_minor": 0
      },
      "text/plain": [
       "HBox(children=(IntProgress(value=0, description='loop', max=690, style=ProgressStyle(description_width='initia…"
      ]
     },
     "metadata": {},
     "output_type": "display_data"
    },
    {
     "name": "stdout",
     "output_type": "stream",
     "text": [
      "\n",
      "{'max_r2': -0.13219639997592983, 'num_features': 45, 'params': [50, 'mse', 15, 2, 2, 'auto']}\n"
     ]
    },
    {
     "data": {
      "application/vnd.jupyter.widget-view+json": {
       "model_id": "d166c5d1335d4002bca6848456c8f17e",
       "version_major": 2,
       "version_minor": 0
      },
      "text/plain": [
       "HBox(children=(IntProgress(value=0, description='loop', max=690, style=ProgressStyle(description_width='initia…"
      ]
     },
     "metadata": {},
     "output_type": "display_data"
    },
    {
     "name": "stdout",
     "output_type": "stream",
     "text": [
      "\n",
      "{'max_r2': -0.004198793046396332, 'num_features': 34, 'params': [50, 'mse', 15, 3, 2, 'sqrt']}\n"
     ]
    },
    {
     "data": {
      "application/vnd.jupyter.widget-view+json": {
       "model_id": "88a30c4ac81748268433d1dbd8584c20",
       "version_major": 2,
       "version_minor": 0
      },
      "text/plain": [
       "HBox(children=(IntProgress(value=0, description='loop', max=690, style=ProgressStyle(description_width='initia…"
      ]
     },
     "metadata": {},
     "output_type": "display_data"
    },
    {
     "name": "stdout",
     "output_type": "stream",
     "text": [
      "\n",
      "{'max_r2': -0.06324661193553187, 'num_features': 47, 'params': [50, 'mse', 15, 3, 2, 'auto']}\n"
     ]
    },
    {
     "data": {
      "application/vnd.jupyter.widget-view+json": {
       "model_id": "1ce4879ac8c845388dbf8db534697d3f",
       "version_major": 2,
       "version_minor": 0
      },
      "text/plain": [
       "HBox(children=(IntProgress(value=0, description='loop', max=690, style=ProgressStyle(description_width='initia…"
      ]
     },
     "metadata": {},
     "output_type": "display_data"
    },
    {
     "name": "stdout",
     "output_type": "stream",
     "text": [
      "\n",
      "{'max_r2': -0.03286613835146991, 'num_features': 2, 'params': [100, 'mse', 2, 1, 2, 'sqrt']}\n"
     ]
    },
    {
     "data": {
      "application/vnd.jupyter.widget-view+json": {
       "model_id": "966f10ed15ac4b958e6447b146516774",
       "version_major": 2,
       "version_minor": 0
      },
      "text/plain": [
       "HBox(children=(IntProgress(value=0, description='loop', max=690, style=ProgressStyle(description_width='initia…"
      ]
     },
     "metadata": {},
     "output_type": "display_data"
    },
    {
     "name": "stdout",
     "output_type": "stream",
     "text": [
      "\n",
      "{'max_r2': -0.06371734204833047, 'num_features': 2, 'params': [100, 'mse', 2, 1, 2, 'auto']}\n"
     ]
    },
    {
     "data": {
      "application/vnd.jupyter.widget-view+json": {
       "model_id": "cf492c81ae754fe49efb6b647e6c12f4",
       "version_major": 2,
       "version_minor": 0
      },
      "text/plain": [
       "HBox(children=(IntProgress(value=0, description='loop', max=690, style=ProgressStyle(description_width='initia…"
      ]
     },
     "metadata": {},
     "output_type": "display_data"
    },
    {
     "name": "stdout",
     "output_type": "stream",
     "text": [
      "\n",
      "{'max_r2': -0.021194227640267183, 'num_features': 34, 'params': [100, 'mse', 2, 2, 2, 'sqrt']}\n"
     ]
    },
    {
     "data": {
      "application/vnd.jupyter.widget-view+json": {
       "model_id": "51beae98aa9e4b2d8d31ee5f13a81188",
       "version_major": 2,
       "version_minor": 0
      },
      "text/plain": [
       "HBox(children=(IntProgress(value=0, description='loop', max=690, style=ProgressStyle(description_width='initia…"
      ]
     },
     "metadata": {},
     "output_type": "display_data"
    },
    {
     "name": "stdout",
     "output_type": "stream",
     "text": [
      "\n",
      "{'max_r2': -0.08059805522987995, 'num_features': 2, 'params': [100, 'mse', 2, 2, 2, 'auto']}\n"
     ]
    },
    {
     "data": {
      "application/vnd.jupyter.widget-view+json": {
       "model_id": "0c878eb86893454ca73b9bfedd0d5835",
       "version_major": 2,
       "version_minor": 0
      },
      "text/plain": [
       "HBox(children=(IntProgress(value=0, description='loop', max=690, style=ProgressStyle(description_width='initia…"
      ]
     },
     "metadata": {},
     "output_type": "display_data"
    },
    {
     "name": "stdout",
     "output_type": "stream",
     "text": [
      "\n",
      "{'max_r2': -0.007906201733147133, 'num_features': 42, 'params': [100, 'mse', 2, 3, 2, 'sqrt']}\n"
     ]
    },
    {
     "data": {
      "application/vnd.jupyter.widget-view+json": {
       "model_id": "4078110fb73f468ca969b19eb67823a3",
       "version_major": 2,
       "version_minor": 0
      },
      "text/plain": [
       "HBox(children=(IntProgress(value=0, description='loop', max=690, style=ProgressStyle(description_width='initia…"
      ]
     },
     "metadata": {},
     "output_type": "display_data"
    },
    {
     "name": "stdout",
     "output_type": "stream",
     "text": [
      "\n",
      "{'max_r2': -0.05408609069174173, 'num_features': 44, 'params': [100, 'mse', 2, 3, 2, 'auto']}\n"
     ]
    },
    {
     "data": {
      "application/vnd.jupyter.widget-view+json": {
       "model_id": "6b4cd1d484dd49bbad359bd446ae358e",
       "version_major": 2,
       "version_minor": 0
      },
      "text/plain": [
       "HBox(children=(IntProgress(value=0, description='loop', max=690, style=ProgressStyle(description_width='initia…"
      ]
     },
     "metadata": {},
     "output_type": "display_data"
    },
    {
     "name": "stdout",
     "output_type": "stream",
     "text": [
      "\n",
      "{'max_r2': -0.03190195860933233, 'num_features': 61, 'params': [100, 'mse', 3, 1, 2, 'sqrt']}\n"
     ]
    },
    {
     "data": {
      "application/vnd.jupyter.widget-view+json": {
       "model_id": "f6bba79d65a247e5b2509c43d578e097",
       "version_major": 2,
       "version_minor": 0
      },
      "text/plain": [
       "HBox(children=(IntProgress(value=0, description='loop', max=690, style=ProgressStyle(description_width='initia…"
      ]
     },
     "metadata": {},
     "output_type": "display_data"
    },
    {
     "name": "stdout",
     "output_type": "stream",
     "text": [
      "\n",
      "{'max_r2': -0.12515316284168942, 'num_features': 2, 'params': [100, 'mse', 3, 1, 2, 'auto']}\n"
     ]
    },
    {
     "data": {
      "application/vnd.jupyter.widget-view+json": {
       "model_id": "c6cde0d63cc54e9ca0ea4ed267f7575f",
       "version_major": 2,
       "version_minor": 0
      },
      "text/plain": [
       "HBox(children=(IntProgress(value=0, description='loop', max=690, style=ProgressStyle(description_width='initia…"
      ]
     },
     "metadata": {},
     "output_type": "display_data"
    },
    {
     "name": "stdout",
     "output_type": "stream",
     "text": [
      "\n",
      "{'max_r2': -0.018432556311674075, 'num_features': 42, 'params': [100, 'mse', 3, 2, 2, 'sqrt']}\n"
     ]
    },
    {
     "data": {
      "application/vnd.jupyter.widget-view+json": {
       "model_id": "8ca027be58c94360aa82ad29b39c1b64",
       "version_major": 2,
       "version_minor": 0
      },
      "text/plain": [
       "HBox(children=(IntProgress(value=0, description='loop', max=690, style=ProgressStyle(description_width='initia…"
      ]
     },
     "metadata": {},
     "output_type": "display_data"
    },
    {
     "name": "stdout",
     "output_type": "stream",
     "text": [
      "\n",
      "{'max_r2': -0.11133555450394159, 'num_features': 44, 'params': [100, 'mse', 3, 2, 2, 'auto']}\n"
     ]
    },
    {
     "data": {
      "application/vnd.jupyter.widget-view+json": {
       "model_id": "0012422cde3240a38228c0e8a08675e1",
       "version_major": 2,
       "version_minor": 0
      },
      "text/plain": [
       "HBox(children=(IntProgress(value=0, description='loop', max=690, style=ProgressStyle(description_width='initia…"
      ]
     },
     "metadata": {},
     "output_type": "display_data"
    },
    {
     "name": "stdout",
     "output_type": "stream",
     "text": [
      "\n",
      "{'max_r2': 0.0007669427742230228, 'num_features': 55, 'params': [100, 'mse', 3, 3, 2, 'sqrt']}\n"
     ]
    },
    {
     "data": {
      "application/vnd.jupyter.widget-view+json": {
       "model_id": "434bef7c6c6645e38a0b2be1c9fcb605",
       "version_major": 2,
       "version_minor": 0
      },
      "text/plain": [
       "HBox(children=(IntProgress(value=0, description='loop', max=690, style=ProgressStyle(description_width='initia…"
      ]
     },
     "metadata": {},
     "output_type": "display_data"
    },
    {
     "name": "stdout",
     "output_type": "stream",
     "text": [
      "\n",
      "{'max_r2': -0.07070549485237075, 'num_features': 44, 'params': [100, 'mse', 3, 3, 2, 'auto']}\n"
     ]
    },
    {
     "data": {
      "application/vnd.jupyter.widget-view+json": {
       "model_id": "c5069f4dcc9e4328854a9d5cdebf091e",
       "version_major": 2,
       "version_minor": 0
      },
      "text/plain": [
       "HBox(children=(IntProgress(value=0, description='loop', max=690, style=ProgressStyle(description_width='initia…"
      ]
     },
     "metadata": {},
     "output_type": "display_data"
    },
    {
     "name": "stdout",
     "output_type": "stream",
     "text": [
      "\n",
      "{'max_r2': -0.017957667598579863, 'num_features': 31, 'params': [100, 'mse', 5, 1, 2, 'sqrt']}\n"
     ]
    },
    {
     "data": {
      "application/vnd.jupyter.widget-view+json": {
       "model_id": "918ab9e8edc540a3b31fbee71b619905",
       "version_major": 2,
       "version_minor": 0
      },
      "text/plain": [
       "HBox(children=(IntProgress(value=0, description='loop', max=690, style=ProgressStyle(description_width='initia…"
      ]
     },
     "metadata": {},
     "output_type": "display_data"
    },
    {
     "name": "stdout",
     "output_type": "stream",
     "text": [
      "\n",
      "{'max_r2': -0.1558871135392149, 'num_features': 45, 'params': [100, 'mse', 5, 1, 2, 'auto']}\n"
     ]
    },
    {
     "data": {
      "application/vnd.jupyter.widget-view+json": {
       "model_id": "667055591e944be59a7b2bfaedfd3e47",
       "version_major": 2,
       "version_minor": 0
      },
      "text/plain": [
       "HBox(children=(IntProgress(value=0, description='loop', max=690, style=ProgressStyle(description_width='initia…"
      ]
     },
     "metadata": {},
     "output_type": "display_data"
    },
    {
     "name": "stdout",
     "output_type": "stream",
     "text": [
      "\n",
      "{'max_r2': -0.014023041697461913, 'num_features': 40, 'params': [100, 'mse', 5, 2, 2, 'sqrt']}\n"
     ]
    },
    {
     "data": {
      "application/vnd.jupyter.widget-view+json": {
       "model_id": "c474cfc02e584cffbdb413301d0c9307",
       "version_major": 2,
       "version_minor": 0
      },
      "text/plain": [
       "HBox(children=(IntProgress(value=0, description='loop', max=690, style=ProgressStyle(description_width='initia…"
      ]
     },
     "metadata": {},
     "output_type": "display_data"
    },
    {
     "name": "stdout",
     "output_type": "stream",
     "text": [
      "\n",
      "{'max_r2': -0.10711136857311927, 'num_features': 45, 'params': [100, 'mse', 5, 2, 2, 'auto']}\n"
     ]
    },
    {
     "data": {
      "application/vnd.jupyter.widget-view+json": {
       "model_id": "6c62e69e7cc741c285a6aa73ee7d7317",
       "version_major": 2,
       "version_minor": 0
      },
      "text/plain": [
       "HBox(children=(IntProgress(value=0, description='loop', max=690, style=ProgressStyle(description_width='initia…"
      ]
     },
     "metadata": {},
     "output_type": "display_data"
    },
    {
     "name": "stdout",
     "output_type": "stream",
     "text": [
      "\n",
      "{'max_r2': 0.01884061471663533, 'num_features': 63, 'params': [100, 'mse', 5, 3, 2, 'sqrt']}\n"
     ]
    },
    {
     "data": {
      "application/vnd.jupyter.widget-view+json": {
       "model_id": "bb18e4e1f8cd4ecfb224dc504e9f6482",
       "version_major": 2,
       "version_minor": 0
      },
      "text/plain": [
       "HBox(children=(IntProgress(value=0, description='loop', max=690, style=ProgressStyle(description_width='initia…"
      ]
     },
     "metadata": {},
     "output_type": "display_data"
    },
    {
     "name": "stdout",
     "output_type": "stream",
     "text": [
      "\n",
      "{'max_r2': -0.07057806989276634, 'num_features': 43, 'params': [100, 'mse', 5, 3, 2, 'auto']}\n"
     ]
    },
    {
     "data": {
      "application/vnd.jupyter.widget-view+json": {
       "model_id": "f6fe9d187dd9455e8f7fe5367db1f176",
       "version_major": 2,
       "version_minor": 0
      },
      "text/plain": [
       "HBox(children=(IntProgress(value=0, description='loop', max=690, style=ProgressStyle(description_width='initia…"
      ]
     },
     "metadata": {},
     "output_type": "display_data"
    },
    {
     "name": "stdout",
     "output_type": "stream",
     "text": [
      "\n",
      "{'max_r2': -0.01053468062339651, 'num_features': 64, 'params': [100, 'mse', 15, 1, 2, 'sqrt']}\n"
     ]
    },
    {
     "data": {
      "application/vnd.jupyter.widget-view+json": {
       "model_id": "d8fe41b32bfb4217bed26b3465ca976a",
       "version_major": 2,
       "version_minor": 0
      },
      "text/plain": [
       "HBox(children=(IntProgress(value=0, description='loop', max=690, style=ProgressStyle(description_width='initia…"
      ]
     },
     "metadata": {},
     "output_type": "display_data"
    },
    {
     "name": "stdout",
     "output_type": "stream",
     "text": [
      "\n",
      "{'max_r2': -0.16041882047480555, 'num_features': 47, 'params': [100, 'mse', 15, 1, 2, 'auto']}\n"
     ]
    },
    {
     "data": {
      "application/vnd.jupyter.widget-view+json": {
       "model_id": "bccb34e8bdd3435faf135b5467b7bcfa",
       "version_major": 2,
       "version_minor": 0
      },
      "text/plain": [
       "HBox(children=(IntProgress(value=0, description='loop', max=690, style=ProgressStyle(description_width='initia…"
      ]
     },
     "metadata": {},
     "output_type": "display_data"
    },
    {
     "name": "stdout",
     "output_type": "stream",
     "text": [
      "\n",
      "{'max_r2': -0.00395443393090904, 'num_features': 40, 'params': [100, 'mse', 15, 2, 2, 'sqrt']}\n"
     ]
    },
    {
     "data": {
      "application/vnd.jupyter.widget-view+json": {
       "model_id": "eaac2c2ba256488fa7364ec61279777b",
       "version_major": 2,
       "version_minor": 0
      },
      "text/plain": [
       "HBox(children=(IntProgress(value=0, description='loop', max=690, style=ProgressStyle(description_width='initia…"
      ]
     },
     "metadata": {},
     "output_type": "display_data"
    },
    {
     "name": "stdout",
     "output_type": "stream",
     "text": [
      "\n",
      "{'max_r2': -0.11621338085391508, 'num_features': 45, 'params': [100, 'mse', 15, 2, 2, 'auto']}\n"
     ]
    },
    {
     "data": {
      "application/vnd.jupyter.widget-view+json": {
       "model_id": "d214a577fdd24b979d8de6b7f47a1910",
       "version_major": 2,
       "version_minor": 0
      },
      "text/plain": [
       "HBox(children=(IntProgress(value=0, description='loop', max=690, style=ProgressStyle(description_width='initia…"
      ]
     },
     "metadata": {},
     "output_type": "display_data"
    },
    {
     "name": "stdout",
     "output_type": "stream",
     "text": [
      "\n",
      "{'max_r2': 0.005788739185714454, 'num_features': 45, 'params': [100, 'mse', 15, 3, 2, 'sqrt']}\n"
     ]
    },
    {
     "data": {
      "application/vnd.jupyter.widget-view+json": {
       "model_id": "b91978717bb24cc0a417a70589eefe7a",
       "version_major": 2,
       "version_minor": 0
      },
      "text/plain": [
       "HBox(children=(IntProgress(value=0, description='loop', max=690, style=ProgressStyle(description_width='initia…"
      ]
     },
     "metadata": {},
     "output_type": "display_data"
    },
    {
     "name": "stdout",
     "output_type": "stream",
     "text": [
      "\n",
      "{'max_r2': -0.07590574164590211, 'num_features': 47, 'params': [100, 'mse', 15, 3, 2, 'auto']}\n"
     ]
    },
    {
     "data": {
      "application/vnd.jupyter.widget-view+json": {
       "model_id": "cc96fd6eb6934fb38f583f9d01bc47b3",
       "version_major": 2,
       "version_minor": 0
      },
      "text/plain": [
       "HBox(children=(IntProgress(value=0, description='loop', max=690, style=ProgressStyle(description_width='initia…"
      ]
     },
     "metadata": {},
     "output_type": "display_data"
    },
    {
     "name": "stdout",
     "output_type": "stream",
     "text": [
      "\n",
      "{'max_r2': -0.03677313796356213, 'num_features': 3, 'params': [150, 'mse', 2, 1, 2, 'sqrt']}\n"
     ]
    },
    {
     "data": {
      "application/vnd.jupyter.widget-view+json": {
       "model_id": "f61c1258efda473d98a373f5cd98e0c8",
       "version_major": 2,
       "version_minor": 0
      },
      "text/plain": [
       "HBox(children=(IntProgress(value=0, description='loop', max=690, style=ProgressStyle(description_width='initia…"
      ]
     },
     "metadata": {},
     "output_type": "display_data"
    },
    {
     "name": "stdout",
     "output_type": "stream",
     "text": [
      "\n",
      "{'max_r2': -0.07170473051133355, 'num_features': 2, 'params': [150, 'mse', 2, 1, 2, 'auto']}\n"
     ]
    },
    {
     "data": {
      "application/vnd.jupyter.widget-view+json": {
       "model_id": "59f06d0364894d178610c0592cb6b75f",
       "version_major": 2,
       "version_minor": 0
      },
      "text/plain": [
       "HBox(children=(IntProgress(value=0, description='loop', max=690, style=ProgressStyle(description_width='initia…"
      ]
     },
     "metadata": {},
     "output_type": "display_data"
    },
    {
     "name": "stdout",
     "output_type": "stream",
     "text": [
      "\n",
      "{'max_r2': -0.023393911186097172, 'num_features': 42, 'params': [150, 'mse', 2, 2, 2, 'sqrt']}\n"
     ]
    },
    {
     "data": {
      "application/vnd.jupyter.widget-view+json": {
       "model_id": "5e19b8a0c1254f30817386a80fb86441",
       "version_major": 2,
       "version_minor": 0
      },
      "text/plain": [
       "HBox(children=(IntProgress(value=0, description='loop', max=690, style=ProgressStyle(description_width='initia…"
      ]
     },
     "metadata": {},
     "output_type": "display_data"
    },
    {
     "name": "stdout",
     "output_type": "stream",
     "text": [
      "\n",
      "{'max_r2': -0.08126001309096938, 'num_features': 2, 'params': [150, 'mse', 2, 2, 2, 'auto']}\n"
     ]
    },
    {
     "data": {
      "application/vnd.jupyter.widget-view+json": {
       "model_id": "356c1f58598c48c5bd3be24654cd0ca1",
       "version_major": 2,
       "version_minor": 0
      },
      "text/plain": [
       "HBox(children=(IntProgress(value=0, description='loop', max=690, style=ProgressStyle(description_width='initia…"
      ]
     },
     "metadata": {},
     "output_type": "display_data"
    },
    {
     "name": "stdout",
     "output_type": "stream",
     "text": [
      "\n",
      "{'max_r2': -0.0063726878574405735, 'num_features': 42, 'params': [150, 'mse', 2, 3, 2, 'sqrt']}\n"
     ]
    },
    {
     "data": {
      "application/vnd.jupyter.widget-view+json": {
       "model_id": "0bb994e3118c4b1d90a78a7d33b8f8d4",
       "version_major": 2,
       "version_minor": 0
      },
      "text/plain": [
       "HBox(children=(IntProgress(value=0, description='loop', max=690, style=ProgressStyle(description_width='initia…"
      ]
     },
     "metadata": {},
     "output_type": "display_data"
    },
    {
     "name": "stdout",
     "output_type": "stream",
     "text": [
      "\n",
      "{'max_r2': -0.06633247752750875, 'num_features': 44, 'params': [150, 'mse', 2, 3, 2, 'auto']}\n"
     ]
    },
    {
     "data": {
      "application/vnd.jupyter.widget-view+json": {
       "model_id": "d3316cccdc0744eea2e5b741b443d64d",
       "version_major": 2,
       "version_minor": 0
      },
      "text/plain": [
       "HBox(children=(IntProgress(value=0, description='loop', max=690, style=ProgressStyle(description_width='initia…"
      ]
     },
     "metadata": {},
     "output_type": "display_data"
    },
    {
     "name": "stdout",
     "output_type": "stream",
     "text": [
      "\n",
      "{'max_r2': -0.04174061891904636, 'num_features': 61, 'params': [150, 'mse', 3, 1, 2, 'sqrt']}\n"
     ]
    },
    {
     "data": {
      "application/vnd.jupyter.widget-view+json": {
       "model_id": "7dcc54435c204022a764b713e1966f72",
       "version_major": 2,
       "version_minor": 0
      },
      "text/plain": [
       "HBox(children=(IntProgress(value=0, description='loop', max=690, style=ProgressStyle(description_width='initia…"
      ]
     },
     "metadata": {},
     "output_type": "display_data"
    },
    {
     "name": "stdout",
     "output_type": "stream",
     "text": [
      "\n",
      "{'max_r2': -0.135177913481124, 'num_features': 2, 'params': [150, 'mse', 3, 1, 2, 'auto']}\n"
     ]
    },
    {
     "data": {
      "application/vnd.jupyter.widget-view+json": {
       "model_id": "890faf7addaf45caa746676702eb86dc",
       "version_major": 2,
       "version_minor": 0
      },
      "text/plain": [
       "HBox(children=(IntProgress(value=0, description='loop', max=690, style=ProgressStyle(description_width='initia…"
      ]
     },
     "metadata": {},
     "output_type": "display_data"
    },
    {
     "name": "stdout",
     "output_type": "stream",
     "text": [
      "\n",
      "{'max_r2': -0.018553639291808467, 'num_features': 61, 'params': [150, 'mse', 3, 2, 2, 'sqrt']}\n"
     ]
    },
    {
     "data": {
      "application/vnd.jupyter.widget-view+json": {
       "model_id": "9febbc5388ee4dd9a2f2dbefc96523c4",
       "version_major": 2,
       "version_minor": 0
      },
      "text/plain": [
       "HBox(children=(IntProgress(value=0, description='loop', max=690, style=ProgressStyle(description_width='initia…"
      ]
     },
     "metadata": {},
     "output_type": "display_data"
    },
    {
     "name": "stdout",
     "output_type": "stream",
     "text": [
      "\n",
      "{'max_r2': -0.11789239364260466, 'num_features': 44, 'params': [150, 'mse', 3, 2, 2, 'auto']}\n"
     ]
    },
    {
     "data": {
      "application/vnd.jupyter.widget-view+json": {
       "model_id": "e57a2b0523314e5d83e99229032369f5",
       "version_major": 2,
       "version_minor": 0
      },
      "text/plain": [
       "HBox(children=(IntProgress(value=0, description='loop', max=690, style=ProgressStyle(description_width='initia…"
      ]
     },
     "metadata": {},
     "output_type": "display_data"
    },
    {
     "name": "stdout",
     "output_type": "stream",
     "text": [
      "\n",
      "{'max_r2': -0.0024241040225198573, 'num_features': 42, 'params': [150, 'mse', 3, 3, 2, 'sqrt']}\n"
     ]
    },
    {
     "data": {
      "application/vnd.jupyter.widget-view+json": {
       "model_id": "54ae534211054d3cade9ec088408ea10",
       "version_major": 2,
       "version_minor": 0
      },
      "text/plain": [
       "HBox(children=(IntProgress(value=0, description='loop', max=690, style=ProgressStyle(description_width='initia…"
      ]
     },
     "metadata": {},
     "output_type": "display_data"
    },
    {
     "name": "stdout",
     "output_type": "stream",
     "text": [
      "\n",
      "{'max_r2': -0.07622317899588088, 'num_features': 44, 'params': [150, 'mse', 3, 3, 2, 'auto']}\n"
     ]
    },
    {
     "data": {
      "application/vnd.jupyter.widget-view+json": {
       "model_id": "b14c41581e0a4797938dc0b842991e1d",
       "version_major": 2,
       "version_minor": 0
      },
      "text/plain": [
       "HBox(children=(IntProgress(value=0, description='loop', max=690, style=ProgressStyle(description_width='initia…"
      ]
     },
     "metadata": {},
     "output_type": "display_data"
    },
    {
     "name": "stdout",
     "output_type": "stream",
     "text": [
      "\n",
      "{'max_r2': -0.0279388122816416, 'num_features': 61, 'params': [150, 'mse', 5, 1, 2, 'sqrt']}\n"
     ]
    },
    {
     "data": {
      "application/vnd.jupyter.widget-view+json": {
       "model_id": "fcda111cf86649039786bc331adefab3",
       "version_major": 2,
       "version_minor": 0
      },
      "text/plain": [
       "HBox(children=(IntProgress(value=0, description='loop', max=690, style=ProgressStyle(description_width='initia…"
      ]
     },
     "metadata": {},
     "output_type": "display_data"
    },
    {
     "name": "stdout",
     "output_type": "stream",
     "text": [
      "\n",
      "{'max_r2': -0.17200116956034384, 'num_features': 45, 'params': [150, 'mse', 5, 1, 2, 'auto']}\n"
     ]
    },
    {
     "data": {
      "application/vnd.jupyter.widget-view+json": {
       "model_id": "37097b98b1264cc7a9442c2a27fecb28",
       "version_major": 2,
       "version_minor": 0
      },
      "text/plain": [
       "HBox(children=(IntProgress(value=0, description='loop', max=690, style=ProgressStyle(description_width='initia…"
      ]
     },
     "metadata": {},
     "output_type": "display_data"
    },
    {
     "name": "stdout",
     "output_type": "stream",
     "text": [
      "\n",
      "{'max_r2': -0.02444934113960522, 'num_features': 36, 'params': [150, 'mse', 5, 2, 2, 'sqrt']}\n"
     ]
    },
    {
     "data": {
      "application/vnd.jupyter.widget-view+json": {
       "model_id": "9ccd101986e248da8ada40f5f0cb11d2",
       "version_major": 2,
       "version_minor": 0
      },
      "text/plain": [
       "HBox(children=(IntProgress(value=0, description='loop', max=690, style=ProgressStyle(description_width='initia…"
      ]
     },
     "metadata": {},
     "output_type": "display_data"
    },
    {
     "name": "stdout",
     "output_type": "stream",
     "text": [
      "\n",
      "{'max_r2': -0.11256804361283564, 'num_features': 45, 'params': [150, 'mse', 5, 2, 2, 'auto']}\n"
     ]
    },
    {
     "data": {
      "application/vnd.jupyter.widget-view+json": {
       "model_id": "b92336c7256047bf82d36339f54052e2",
       "version_major": 2,
       "version_minor": 0
      },
      "text/plain": [
       "HBox(children=(IntProgress(value=0, description='loop', max=690, style=ProgressStyle(description_width='initia…"
      ]
     },
     "metadata": {},
     "output_type": "display_data"
    },
    {
     "name": "stdout",
     "output_type": "stream",
     "text": [
      "\n",
      "{'max_r2': 0.008105156559421112, 'num_features': 63, 'params': [150, 'mse', 5, 3, 2, 'sqrt']}\n"
     ]
    },
    {
     "data": {
      "application/vnd.jupyter.widget-view+json": {
       "model_id": "dd8fb91de4c34f538ef65dd15d76d9ce",
       "version_major": 2,
       "version_minor": 0
      },
      "text/plain": [
       "HBox(children=(IntProgress(value=0, description='loop', max=690, style=ProgressStyle(description_width='initia…"
      ]
     },
     "metadata": {},
     "output_type": "display_data"
    },
    {
     "name": "stdout",
     "output_type": "stream",
     "text": [
      "\n",
      "{'max_r2': -0.07249446005336443, 'num_features': 44, 'params': [150, 'mse', 5, 3, 2, 'auto']}\n"
     ]
    },
    {
     "data": {
      "application/vnd.jupyter.widget-view+json": {
       "model_id": "463d6a5680d44775bdc6fbabdff289fb",
       "version_major": 2,
       "version_minor": 0
      },
      "text/plain": [
       "HBox(children=(IntProgress(value=0, description='loop', max=690, style=ProgressStyle(description_width='initia…"
      ]
     },
     "metadata": {},
     "output_type": "display_data"
    },
    {
     "name": "stdout",
     "output_type": "stream",
     "text": [
      "\n",
      "{'max_r2': -0.022552557719284883, 'num_features': 64, 'params': [150, 'mse', 15, 1, 2, 'sqrt']}\n"
     ]
    },
    {
     "data": {
      "application/vnd.jupyter.widget-view+json": {
       "model_id": "bef5f36f347a4ce4b8f6dcecd9f00d56",
       "version_major": 2,
       "version_minor": 0
      },
      "text/plain": [
       "HBox(children=(IntProgress(value=0, description='loop', max=690, style=ProgressStyle(description_width='initia…"
      ]
     },
     "metadata": {},
     "output_type": "display_data"
    },
    {
     "name": "stdout",
     "output_type": "stream",
     "text": [
      "\n",
      "{'max_r2': -0.1778644858533705, 'num_features': 45, 'params': [150, 'mse', 15, 1, 2, 'auto']}\n"
     ]
    },
    {
     "data": {
      "application/vnd.jupyter.widget-view+json": {
       "model_id": "c045bdb8591642a1b3b990e78f3aff55",
       "version_major": 2,
       "version_minor": 0
      },
      "text/plain": [
       "HBox(children=(IntProgress(value=0, description='loop', max=690, style=ProgressStyle(description_width='initia…"
      ]
     },
     "metadata": {},
     "output_type": "display_data"
    },
    {
     "name": "stdout",
     "output_type": "stream",
     "text": [
      "\n",
      "{'max_r2': -0.009114094050745813, 'num_features': 61, 'params': [150, 'mse', 15, 2, 2, 'sqrt']}\n"
     ]
    },
    {
     "data": {
      "application/vnd.jupyter.widget-view+json": {
       "model_id": "bd39998f5cad424e896f5ca759607860",
       "version_major": 2,
       "version_minor": 0
      },
      "text/plain": [
       "HBox(children=(IntProgress(value=0, description='loop', max=690, style=ProgressStyle(description_width='initia…"
      ]
     },
     "metadata": {},
     "output_type": "display_data"
    },
    {
     "name": "stdout",
     "output_type": "stream",
     "text": [
      "\n",
      "{'max_r2': -0.1212637714135973, 'num_features': 45, 'params': [150, 'mse', 15, 2, 2, 'auto']}\n"
     ]
    },
    {
     "data": {
      "application/vnd.jupyter.widget-view+json": {
       "model_id": "a88afcfc39b04a21b1462228bec3a35f",
       "version_major": 2,
       "version_minor": 0
      },
      "text/plain": [
       "HBox(children=(IntProgress(value=0, description='loop', max=690, style=ProgressStyle(description_width='initia…"
      ]
     },
     "metadata": {},
     "output_type": "display_data"
    },
    {
     "name": "stdout",
     "output_type": "stream",
     "text": [
      "\n",
      "{'max_r2': 0.005574555018858151, 'num_features': 65, 'params': [150, 'mse', 15, 3, 2, 'sqrt']}\n"
     ]
    },
    {
     "data": {
      "application/vnd.jupyter.widget-view+json": {
       "model_id": "9beeca8085ea4b0dabea961eab44b56b",
       "version_major": 2,
       "version_minor": 0
      },
      "text/plain": [
       "HBox(children=(IntProgress(value=0, description='loop', max=690, style=ProgressStyle(description_width='initia…"
      ]
     },
     "metadata": {},
     "output_type": "display_data"
    },
    {
     "name": "stdout",
     "output_type": "stream",
     "text": [
      "\n",
      "{'max_r2': -0.08075328192674848, 'num_features': 44, 'params': [150, 'mse', 15, 3, 2, 'auto']}\n"
     ]
    },
    {
     "data": {
      "application/vnd.jupyter.widget-view+json": {
       "model_id": "f56a3800265d40fa9305566a6b62b67a",
       "version_major": 2,
       "version_minor": 0
      },
      "text/plain": [
       "HBox(children=(IntProgress(value=0, description='loop', max=690, style=ProgressStyle(description_width='initia…"
      ]
     },
     "metadata": {},
     "output_type": "display_data"
    },
    {
     "name": "stdout",
     "output_type": "stream",
     "text": [
      "\n",
      "{'max_r2': -0.03369560234241302, 'num_features': 3, 'params': [200, 'mse', 2, 1, 2, 'sqrt']}\n"
     ]
    },
    {
     "data": {
      "application/vnd.jupyter.widget-view+json": {
       "model_id": "d70660caff6b42979f89030995fc8fa5",
       "version_major": 2,
       "version_minor": 0
      },
      "text/plain": [
       "HBox(children=(IntProgress(value=0, description='loop', max=690, style=ProgressStyle(description_width='initia…"
      ]
     },
     "metadata": {},
     "output_type": "display_data"
    },
    {
     "name": "stdout",
     "output_type": "stream",
     "text": [
      "\n",
      "{'max_r2': -0.07342283134310006, 'num_features': 2, 'params': [200, 'mse', 2, 1, 2, 'auto']}\n"
     ]
    },
    {
     "data": {
      "application/vnd.jupyter.widget-view+json": {
       "model_id": "88872c2844d04fcf9f19f6eff5043e7e",
       "version_major": 2,
       "version_minor": 0
      },
      "text/plain": [
       "HBox(children=(IntProgress(value=0, description='loop', max=690, style=ProgressStyle(description_width='initia…"
      ]
     },
     "metadata": {},
     "output_type": "display_data"
    },
    {
     "name": "stdout",
     "output_type": "stream",
     "text": [
      "\n",
      "{'max_r2': -0.023091420571454125, 'num_features': 42, 'params': [200, 'mse', 2, 2, 2, 'sqrt']}\n"
     ]
    },
    {
     "data": {
      "application/vnd.jupyter.widget-view+json": {
       "model_id": "c02a627a5e084ddd80165d173ce8f2a5",
       "version_major": 2,
       "version_minor": 0
      },
      "text/plain": [
       "HBox(children=(IntProgress(value=0, description='loop', max=690, style=ProgressStyle(description_width='initia…"
      ]
     },
     "metadata": {},
     "output_type": "display_data"
    },
    {
     "name": "stdout",
     "output_type": "stream",
     "text": [
      "\n",
      "{'max_r2': -0.08427234599586944, 'num_features': 2, 'params': [200, 'mse', 2, 2, 2, 'auto']}\n"
     ]
    },
    {
     "data": {
      "application/vnd.jupyter.widget-view+json": {
       "model_id": "471dd22b76824cd697a4ba99396466d2",
       "version_major": 2,
       "version_minor": 0
      },
      "text/plain": [
       "HBox(children=(IntProgress(value=0, description='loop', max=690, style=ProgressStyle(description_width='initia…"
      ]
     },
     "metadata": {},
     "output_type": "display_data"
    },
    {
     "name": "stdout",
     "output_type": "stream",
     "text": [
      "\n",
      "{'max_r2': -0.009059985691924066, 'num_features': 42, 'params': [200, 'mse', 2, 3, 2, 'sqrt']}\n"
     ]
    },
    {
     "data": {
      "application/vnd.jupyter.widget-view+json": {
       "model_id": "816db020ebd44d6880a00e9d9ce98d38",
       "version_major": 2,
       "version_minor": 0
      },
      "text/plain": [
       "HBox(children=(IntProgress(value=0, description='loop', max=690, style=ProgressStyle(description_width='initia…"
      ]
     },
     "metadata": {},
     "output_type": "display_data"
    },
    {
     "name": "stdout",
     "output_type": "stream",
     "text": [
      "\n",
      "{'max_r2': -0.06001053613850808, 'num_features': 44, 'params': [200, 'mse', 2, 3, 2, 'auto']}\n"
     ]
    },
    {
     "data": {
      "application/vnd.jupyter.widget-view+json": {
       "model_id": "17be2bdf40074faa889d9d2c59cc608d",
       "version_major": 2,
       "version_minor": 0
      },
      "text/plain": [
       "HBox(children=(IntProgress(value=0, description='loop', max=690, style=ProgressStyle(description_width='initia…"
      ]
     },
     "metadata": {},
     "output_type": "display_data"
    },
    {
     "name": "stdout",
     "output_type": "stream",
     "text": [
      "\n",
      "{'max_r2': -0.0393467682399441, 'num_features': 32, 'params': [200, 'mse', 3, 1, 2, 'sqrt']}\n"
     ]
    },
    {
     "data": {
      "application/vnd.jupyter.widget-view+json": {
       "model_id": "17d418319ba34834a21501f277517d34",
       "version_major": 2,
       "version_minor": 0
      },
      "text/plain": [
       "HBox(children=(IntProgress(value=0, description='loop', max=690, style=ProgressStyle(description_width='initia…"
      ]
     },
     "metadata": {},
     "output_type": "display_data"
    },
    {
     "name": "stdout",
     "output_type": "stream",
     "text": [
      "\n",
      "{'max_r2': -0.13347792643292325, 'num_features': 2, 'params': [200, 'mse', 3, 1, 2, 'auto']}\n"
     ]
    },
    {
     "data": {
      "application/vnd.jupyter.widget-view+json": {
       "model_id": "940b99070fb24079a4332f55341dc28c",
       "version_major": 2,
       "version_minor": 0
      },
      "text/plain": [
       "HBox(children=(IntProgress(value=0, description='loop', max=690, style=ProgressStyle(description_width='initia…"
      ]
     },
     "metadata": {},
     "output_type": "display_data"
    },
    {
     "name": "stdout",
     "output_type": "stream",
     "text": [
      "\n",
      "{'max_r2': -0.016762650935864896, 'num_features': 42, 'params': [200, 'mse', 3, 2, 2, 'sqrt']}\n"
     ]
    },
    {
     "data": {
      "application/vnd.jupyter.widget-view+json": {
       "model_id": "6c9be4fbe0dd4a0690d6bcff917a0950",
       "version_major": 2,
       "version_minor": 0
      },
      "text/plain": [
       "HBox(children=(IntProgress(value=0, description='loop', max=690, style=ProgressStyle(description_width='initia…"
      ]
     },
     "metadata": {},
     "output_type": "display_data"
    },
    {
     "name": "stdout",
     "output_type": "stream",
     "text": [
      "\n",
      "{'max_r2': -0.09917181388178117, 'num_features': 44, 'params': [200, 'mse', 3, 2, 2, 'auto']}\n"
     ]
    },
    {
     "data": {
      "application/vnd.jupyter.widget-view+json": {
       "model_id": "83ec8b6cf43c4d3d810d15a101049876",
       "version_major": 2,
       "version_minor": 0
      },
      "text/plain": [
       "HBox(children=(IntProgress(value=0, description='loop', max=690, style=ProgressStyle(description_width='initia…"
      ]
     },
     "metadata": {},
     "output_type": "display_data"
    },
    {
     "name": "stdout",
     "output_type": "stream",
     "text": [
      "\n",
      "{'max_r2': 5.280614017946217e-05, 'num_features': 55, 'params': [200, 'mse', 3, 3, 2, 'sqrt']}\n"
     ]
    },
    {
     "data": {
      "application/vnd.jupyter.widget-view+json": {
       "model_id": "30f32c788bb44024b1e5eeaa2da707cb",
       "version_major": 2,
       "version_minor": 0
      },
      "text/plain": [
       "HBox(children=(IntProgress(value=0, description='loop', max=690, style=ProgressStyle(description_width='initia…"
      ]
     },
     "metadata": {},
     "output_type": "display_data"
    },
    {
     "name": "stdout",
     "output_type": "stream",
     "text": [
      "\n",
      "{'max_r2': -0.06804642969914845, 'num_features': 44, 'params': [200, 'mse', 3, 3, 2, 'auto']}\n"
     ]
    },
    {
     "data": {
      "application/vnd.jupyter.widget-view+json": {
       "model_id": "93cf944f328443e595ee8a64c1f8bd79",
       "version_major": 2,
       "version_minor": 0
      },
      "text/plain": [
       "HBox(children=(IntProgress(value=0, description='loop', max=690, style=ProgressStyle(description_width='initia…"
      ]
     },
     "metadata": {},
     "output_type": "display_data"
    },
    {
     "name": "stdout",
     "output_type": "stream",
     "text": [
      "\n",
      "{'max_r2': -0.029047908056833115, 'num_features': 61, 'params': [200, 'mse', 5, 1, 2, 'sqrt']}\n"
     ]
    },
    {
     "data": {
      "application/vnd.jupyter.widget-view+json": {
       "model_id": "0a6117754f0f4c1db71ca8cc6e408091",
       "version_major": 2,
       "version_minor": 0
      },
      "text/plain": [
       "HBox(children=(IntProgress(value=0, description='loop', max=690, style=ProgressStyle(description_width='initia…"
      ]
     },
     "metadata": {},
     "output_type": "display_data"
    },
    {
     "name": "stdout",
     "output_type": "stream",
     "text": [
      "\n",
      "{'max_r2': -0.14896888284195892, 'num_features': 44, 'params': [200, 'mse', 5, 1, 2, 'auto']}\n"
     ]
    },
    {
     "data": {
      "application/vnd.jupyter.widget-view+json": {
       "model_id": "283efa1d770e4a0da50da698dc8858cb",
       "version_major": 2,
       "version_minor": 0
      },
      "text/plain": [
       "HBox(children=(IntProgress(value=0, description='loop', max=690, style=ProgressStyle(description_width='initia…"
      ]
     },
     "metadata": {},
     "output_type": "display_data"
    },
    {
     "name": "stdout",
     "output_type": "stream",
     "text": [
      "\n",
      "{'max_r2': -0.014512134695990154, 'num_features': 60, 'params': [200, 'mse', 5, 2, 2, 'sqrt']}\n"
     ]
    },
    {
     "data": {
      "application/vnd.jupyter.widget-view+json": {
       "model_id": "715ff072a33a43de83ea78dbf906bc0a",
       "version_major": 2,
       "version_minor": 0
      },
      "text/plain": [
       "HBox(children=(IntProgress(value=0, description='loop', max=690, style=ProgressStyle(description_width='initia…"
      ]
     },
     "metadata": {},
     "output_type": "display_data"
    },
    {
     "name": "stdout",
     "output_type": "stream",
     "text": [
      "\n",
      "{'max_r2': -0.09210491988082024, 'num_features': 45, 'params': [200, 'mse', 5, 2, 2, 'auto']}\n"
     ]
    },
    {
     "data": {
      "application/vnd.jupyter.widget-view+json": {
       "model_id": "9d427381547342b7a4704c0afe18a048",
       "version_major": 2,
       "version_minor": 0
      },
      "text/plain": [
       "HBox(children=(IntProgress(value=0, description='loop', max=690, style=ProgressStyle(description_width='initia…"
      ]
     },
     "metadata": {},
     "output_type": "display_data"
    },
    {
     "name": "stdout",
     "output_type": "stream",
     "text": [
      "\n",
      "{'max_r2': 0.003144934978558078, 'num_features': 63, 'params': [200, 'mse', 5, 3, 2, 'sqrt']}\n"
     ]
    },
    {
     "data": {
      "application/vnd.jupyter.widget-view+json": {
       "model_id": "f3b541be61354ccd9da13713d00abf95",
       "version_major": 2,
       "version_minor": 0
      },
      "text/plain": [
       "HBox(children=(IntProgress(value=0, description='loop', max=690, style=ProgressStyle(description_width='initia…"
      ]
     },
     "metadata": {},
     "output_type": "display_data"
    },
    {
     "name": "stdout",
     "output_type": "stream",
     "text": [
      "\n",
      "{'max_r2': -0.06569990773215391, 'num_features': 44, 'params': [200, 'mse', 5, 3, 2, 'auto']}\n"
     ]
    },
    {
     "data": {
      "application/vnd.jupyter.widget-view+json": {
       "model_id": "ad6094bb741d4d75ba5cff3bba73d3c3",
       "version_major": 2,
       "version_minor": 0
      },
      "text/plain": [
       "HBox(children=(IntProgress(value=0, description='loop', max=690, style=ProgressStyle(description_width='initia…"
      ]
     },
     "metadata": {},
     "output_type": "display_data"
    },
    {
     "name": "stdout",
     "output_type": "stream",
     "text": [
      "\n",
      "{'max_r2': -0.033251189200940834, 'num_features': 64, 'params': [200, 'mse', 15, 1, 2, 'sqrt']}\n"
     ]
    },
    {
     "data": {
      "application/vnd.jupyter.widget-view+json": {
       "model_id": "0964585fa937460ea333c7782828d7bd",
       "version_major": 2,
       "version_minor": 0
      },
      "text/plain": [
       "HBox(children=(IntProgress(value=0, description='loop', max=690, style=ProgressStyle(description_width='initia…"
      ]
     },
     "metadata": {},
     "output_type": "display_data"
    },
    {
     "name": "stdout",
     "output_type": "stream",
     "text": [
      "\n",
      "{'max_r2': -0.1506758835721252, 'num_features': 45, 'params': [200, 'mse', 15, 1, 2, 'auto']}\n"
     ]
    },
    {
     "data": {
      "application/vnd.jupyter.widget-view+json": {
       "model_id": "9b78692d6f1d41ed94a1020871de9fe1",
       "version_major": 2,
       "version_minor": 0
      },
      "text/plain": [
       "HBox(children=(IntProgress(value=0, description='loop', max=690, style=ProgressStyle(description_width='initia…"
      ]
     },
     "metadata": {},
     "output_type": "display_data"
    },
    {
     "name": "stdout",
     "output_type": "stream",
     "text": [
      "\n",
      "{'max_r2': -0.015555952974693466, 'num_features': 61, 'params': [200, 'mse', 15, 2, 2, 'sqrt']}\n"
     ]
    },
    {
     "data": {
      "application/vnd.jupyter.widget-view+json": {
       "model_id": "d1a741dedc804abca689ebba41e08734",
       "version_major": 2,
       "version_minor": 0
      },
      "text/plain": [
       "HBox(children=(IntProgress(value=0, description='loop', max=690, style=ProgressStyle(description_width='initia…"
      ]
     },
     "metadata": {},
     "output_type": "display_data"
    },
    {
     "name": "stdout",
     "output_type": "stream",
     "text": [
      "\n",
      "{'max_r2': -0.09909285502418214, 'num_features': 45, 'params': [200, 'mse', 15, 2, 2, 'auto']}\n"
     ]
    },
    {
     "data": {
      "application/vnd.jupyter.widget-view+json": {
       "model_id": "b65a1dccef62410b8147fbd4e063991b",
       "version_major": 2,
       "version_minor": 0
      },
      "text/plain": [
       "HBox(children=(IntProgress(value=0, description='loop', max=690, style=ProgressStyle(description_width='initia…"
      ]
     },
     "metadata": {},
     "output_type": "display_data"
    },
    {
     "name": "stdout",
     "output_type": "stream",
     "text": [
      "\n",
      "{'max_r2': 0.001432371607578442, 'num_features': 45, 'params': [200, 'mse', 15, 3, 2, 'sqrt']}\n"
     ]
    },
    {
     "data": {
      "application/vnd.jupyter.widget-view+json": {
       "model_id": "e435f53f75ef433f9a8549f9743643ea",
       "version_major": 2,
       "version_minor": 0
      },
      "text/plain": [
       "HBox(children=(IntProgress(value=0, description='loop', max=690, style=ProgressStyle(description_width='initia…"
      ]
     },
     "metadata": {},
     "output_type": "display_data"
    },
    {
     "name": "stdout",
     "output_type": "stream",
     "text": [
      "\n",
      "{'max_r2': -0.07359903591463582, 'num_features': 44, 'params': [200, 'mse', 15, 3, 2, 'auto']}\n"
     ]
    }
   ],
   "source": [
    "write_keys = ['max_r2','num_features','params']\n",
    "save_result_path = cfg.get(\"save_result_path\")\n",
    "# save_result_path = \"./results/LassoCD_rf_cdata_nonorm.csv\"\n",
    "result, feature, score, metric = train_svmrfe(X,y,cfg)"
   ]
  },
  {
   "cell_type": "code",
   "execution_count": 77,
   "metadata": {},
   "outputs": [],
   "source": [
    "#record the rows in csv\n",
    "with open(save_result_path,'w') as csv_file:\n",
    "    # write header and rows to csv file\n",
    "    csv_writer = csv.DictWriter(csv_file, write_keys)\n",
    "    csv_writer.writeheader()\n",
    "    csv_writer.writerows(result)"
   ]
  },
  {
   "cell_type": "code",
   "execution_count": 572,
   "metadata": {},
   "outputs": [
    {
     "data": {
      "text/html": [
       "<div>\n",
       "<style scoped>\n",
       "    .dataframe tbody tr th:only-of-type {\n",
       "        vertical-align: middle;\n",
       "    }\n",
       "\n",
       "    .dataframe tbody tr th {\n",
       "        vertical-align: top;\n",
       "    }\n",
       "\n",
       "    .dataframe thead th {\n",
       "        text-align: right;\n",
       "    }\n",
       "</style>\n",
       "<table border=\"1\" class=\"dataframe\">\n",
       "  <thead>\n",
       "    <tr style=\"text-align: right;\">\n",
       "      <th></th>\n",
       "      <th>Predict</th>\n",
       "      <th>True</th>\n",
       "    </tr>\n",
       "  </thead>\n",
       "  <tbody>\n",
       "    <tr>\n",
       "      <th>Predict</th>\n",
       "      <td>1.000000</td>\n",
       "      <td>0.109461</td>\n",
       "    </tr>\n",
       "    <tr>\n",
       "      <th>True</th>\n",
       "      <td>0.109461</td>\n",
       "      <td>1.000000</td>\n",
       "    </tr>\n",
       "  </tbody>\n",
       "</table>\n",
       "</div>"
      ],
      "text/plain": [
       "          Predict      True\n",
       "Predict  1.000000  0.109461\n",
       "True     0.109461  1.000000"
      ]
     },
     "execution_count": 572,
     "metadata": {},
     "output_type": "execute_result"
    }
   ],
   "source": [
    "from tkinter import _flatten\n",
    "pred = list(_flatten(score[0]))\n",
    "true = list(_flatten(score[1]))\n",
    "df_score = pd.DataFrame({'Predict':pred,'True':true})\n",
    "df_score.corr()"
   ]
  },
  {
   "cell_type": "markdown",
   "metadata": {},
   "source": [
    "### rdata"
   ]
  },
  {
   "cell_type": "code",
   "execution_count": 18,
   "metadata": {},
   "outputs": [],
   "source": [
    "X = rdata_maxabs\n",
    "y = cog_norm\n",
    "yamlfile = 'config/svmrfe_rf_rdata.yaml'\n",
    "with open(yamlfile, 'r') as f:\n",
    "    cfg = yaml.load(f, Loader=yaml.FullLoader)"
   ]
  },
  {
   "cell_type": "code",
   "execution_count": 19,
   "metadata": {},
   "outputs": [
    {
     "data": {
      "application/vnd.jupyter.widget-view+json": {
       "model_id": "a050c17bc4774f079744c0c10e6ade2c",
       "version_major": 2,
       "version_minor": 0
      },
      "text/plain": [
       "HBox(children=(IntProgress(value=0, description='loop', max=6990, style=ProgressStyle(description_width='initi…"
      ]
     },
     "metadata": {},
     "output_type": "display_data"
    },
    {
     "name": "stdout",
     "output_type": "stream",
     "text": [
      "\n",
      "{'max_r2': 0.14260132850665064, 'num_features': 355, 'params': [50, 'mse', 15, 1, 2, 'sqrt']}\n"
     ]
    }
   ],
   "source": [
    "write_keys = ['max_r2','num_features','params']\n",
    "save_result_path = cfg.get(\"save_result_path\")\n",
    "result, feature, score, metric = train_svmrfe(X,y,cfg)"
   ]
  },
  {
   "cell_type": "code",
   "execution_count": 20,
   "metadata": {},
   "outputs": [],
   "source": [
    "#record the rows in csv\n",
    "with open(save_result_path,'w') as csv_file:\n",
    "    # write header and rows to csv file\n",
    "    csv_writer = csv.DictWriter(csv_file, write_keys)\n",
    "    csv_writer.writeheader()\n",
    "    csv_writer.writerows(result)"
   ]
  },
  {
   "cell_type": "markdown",
   "metadata": {},
   "source": [
    "## Find the best result"
   ]
  },
  {
   "cell_type": "code",
   "execution_count": 190,
   "metadata": {
    "scrolled": false
   },
   "outputs": [
    {
     "data": {
      "text/plain": [
       "max_r2                             -0.00601382\n",
       "best_alpha                               5e-07\n",
       "num_features                              1342\n",
       "params          [150, 'mse', 15, 1, 2, 'sqrt']\n",
       "Name: 30, dtype: object"
      ]
     },
     "execution_count": 190,
     "metadata": {},
     "output_type": "execute_result"
    }
   ],
   "source": [
    "csv_file = \"results/LassoCD_rf_cdata_nonorm.csv\"\n",
    "df = pd.read_csv(csv_file)\n",
    "df.loc[df['max_r2'].idxmax()]"
   ]
  },
  {
   "cell_type": "code",
   "execution_count": 14,
   "metadata": {},
   "outputs": [
    {
     "data": {
      "text/plain": [
       "max_r2                              0.0419122\n",
       "best_alpha                             0.0035\n",
       "num_features                               43\n",
       "params          [150, 'mse', 3, 1, 2, 'sqrt']\n",
       "Name: 0, dtype: object"
      ]
     },
     "execution_count": 14,
     "metadata": {},
     "output_type": "execute_result"
    }
   ],
   "source": [
    "csv_file = \"results/LassoCD_rf_pdata.csv\"\n",
    "df = pd.read_csv(csv_file)\n",
    "df.loc[df['max_r2'].idxmax()]"
   ]
  },
  {
   "cell_type": "code",
   "execution_count": 499,
   "metadata": {},
   "outputs": [
    {
     "data": {
      "text/plain": [
       "max_r2                            -0.00160481\n",
       "best_alpha        (1e-06, 0.8200000000000001)\n",
       "num_features                             1048\n",
       "params          [100, 'mse', 3, 1, 2, 'sqrt']\n",
       "Name: 0, dtype: object"
      ]
     },
     "execution_count": 499,
     "metadata": {},
     "output_type": "execute_result"
    }
   ],
   "source": [
    "csv_file = \"results/elastic_net_rf_cdata_nonorm.csv\"\n",
    "df = pd.read_csv(csv_file)\n",
    "df.loc[df['max_r2'].idxmax()]"
   ]
  },
  {
   "cell_type": "code",
   "execution_count": 78,
   "metadata": {},
   "outputs": [
    {
     "data": {
      "text/plain": [
       "max_r2                              0.0188406\n",
       "num_features                               63\n",
       "params          [100, 'mse', 5, 3, 2, 'sqrt']\n",
       "Name: 40, dtype: object"
      ]
     },
     "execution_count": 78,
     "metadata": {},
     "output_type": "execute_result"
    }
   ],
   "source": [
    "csv_file = \"results/svmrfe_rf_xdata.csv\"\n",
    "df = pd.read_csv(csv_file)\n",
    "df.loc[df['max_r2'].idxmax()]"
   ]
  },
  {
   "cell_type": "code",
   "execution_count": 21,
   "metadata": {},
   "outputs": [
    {
     "data": {
      "text/plain": [
       "max_r2                               0.142601\n",
       "num_features                              355\n",
       "params          [50, 'mse', 15, 1, 2, 'sqrt']\n",
       "Name: 0, dtype: object"
      ]
     },
     "execution_count": 21,
     "metadata": {},
     "output_type": "execute_result"
    }
   ],
   "source": [
    "csv_file = \"results/svmrfe_rf_rdata.csv\"\n",
    "df = pd.read_csv(csv_file)\n",
    "df.loc[df['max_r2'].idxmax()]"
   ]
  },
  {
   "cell_type": "markdown",
   "metadata": {},
   "source": [
    "## multi kernel (on-going)"
   ]
  },
  {
   "cell_type": "code",
   "execution_count": 0,
   "metadata": {
    "colab": {},
    "colab_type": "code",
    "id": "H1VA4vYw5JTa"
   },
   "outputs": [],
   "source": [
    "def single_lasso(x_train_tmp, y_train, ll, ul, step):\n",
    "    fea_idx = []\n",
    "    alpha = []\n",
    "    ilist = np.linspace(ll,ul,step)\n",
    "    for i in ilist:\n",
    "        reg = Lasso(alpha=i)\n",
    "        reg.fit(x_train_tmp, np.ravel(y_train))\n",
    "        fea_idx.append([i for i,x in enumerate(reg.coef_) if x>0])\n",
    "        alpha.append(i)\n",
    "    return fea_idx, alpha\n",
    "\n",
    "def single_elastic_net(x_train_tmp, y_train, ll1, ul1, step1, ll2, ul2, step2):\n",
    "    fea_idx = []\n",
    "    alpha = []\n",
    "    inp = [list(create_alpha(ll1,ul1,step1)), list(np.linspace(ll2,ul2,step2))]\n",
    "    g = [i for i in itertools.product(*inp)]\n",
    "    for k in range(len(g)):\n",
    "        reg = ElasticNet(random_state=state,alpha=g[k][0],l1_ratio=g[k][1])\n",
    "        reg.fit(x_train_tmp, np.ravel(y_train))\n",
    "        fea_idx.append([i for i,x in enumerate(reg.coef_) if x>0])\n",
    "        alpha.append(g[k])\n",
    "    return fea_idx, alpha\n",
    "\n",
    "def single_rfe(x, y, ln, un):\n",
    "    svr_rfe = SVR(kernel='linear')\n",
    "    rfe = RFE(estimator=svr_rfe, n_features_to_select=1, step=1)\n",
    "    rfe.fit(x, y)\n",
    "    importance = np.argsort(rfe.ranking_)\n",
    "    fea_idx = []\n",
    "    alpha = []\n",
    "    for i in range(ln,un):\n",
    "        fea_idx.append(importance[:i])\n",
    "        alpha.append(i)\n",
    "    return fea_idx, alpha\n",
    "\n",
    "def select_features(X, y_train, train_index, l):\n",
    "    rf, ra = single_rfe(X[0][train_index], y_train, l[0][0], l[0][1])\n",
    "    cf, ca = single_lasso(X[1][train_index], y_train, l[1][0], l[1][1], l[1][2])\n",
    "    pf, pa = single_lasso(X[2][train_index], y_train, l[2][0], l[2][1], l[2][2])\n",
    "    xf, xa = single_rfe(X[3][train_index], y_train, l[3][0],l[3][1])\n",
    "    return ra, rf, ca, cf, pa, pf, xa, xf\n",
    "\n",
    "def proximityMatrix(model, X, normalize=True):      \n",
    "\n",
    "    terminals = model.apply(X)\n",
    "    nTrees = terminals.shape[1]\n",
    "\n",
    "    a = terminals[:,0]\n",
    "    proxMat = 1*np.equal.outer(a, a)\n",
    "\n",
    "    for i in range(1, nTrees):\n",
    "        a = terminals[:,i]\n",
    "        proxMat += 1*np.equal.outer(a, a)\n",
    "\n",
    "    if normalize:\n",
    "        proxMat = proxMat / nTrees\n",
    "\n",
    "    return proxMat   "
   ]
  },
  {
   "cell_type": "code",
   "execution_count": null,
   "metadata": {},
   "outputs": [],
   "source": [
    "def multi_RF(X, cfg, w):\n",
    "    s= 0\n",
    "    rf_cv = cfg.get(\"rf_params_set\")\n",
    "    rf_params_list = to_sets(rf_cv)\n",
    "    for rf_params in rf_params_list:\n",
    "    for i in range(4):\n",
    "        X[i]=np.array(X[i]) \n",
    "        \n",
    "        \n",
    "        s += w[i]* rbf_kernel(X1[i], X2[i], params[i])\n",
    "    return s"
   ]
  },
  {
   "cell_type": "code",
   "execution_count": null,
   "metadata": {},
   "outputs": [],
   "source": [
    "def multi(X, y, L, params, state, score_min, score_max):\n",
    "    kf = KFold(n_splits=10,shuffle=True,random_state=state)\n",
    "    multi_feature = []\n",
    "    multi_score = []\n",
    "    multi_r2 = []\n",
    "    multi_mse = []\n",
    "    w_grid = [list(np.linspace(0.0,1.0,11,dtype = np.float32))]\n",
    "    W_grid = w_grid * len(L)\n",
    "    W= [i for i in itertools.product(*W_grid) if np.sum(i)==1.0]\n",
    "    W = [(0.2, 0.0, 0.1, 0.7)]\n",
    "    pbar = tnrange(len(W), desc='loop')\n",
    "    for t, w in enumerate(W):\n",
    "        feature = []\n",
    "        metric = []\n",
    "        R2 = []\n",
    "        MSE = []\n",
    "        score = []\n",
    "        for train_index, test_index in kf.split(y):\n",
    "            y_test_raw = np.ravel(y[test_index])\n",
    "            y_train = np.ravel(y[train_index])\n",
    "            rRF = RandomForestRegressor(n_estimators=rf_params[0], \n",
    "                                        criterion=rf_params[1], \n",
    "                                        max_depth = rf_params[2], \n",
    "                                        min_samples_leaf = rf_params[3], \n",
    "                                        min_samples_split = rf_params[4], \n",
    "                                        max_features=rf_params[5], \n",
    "                                        random_state=state)\n",
    "            ra, rf, ca, cf, pa, pf, xa, xf = select_features(X, y_train, train_index, L)\n",
    "            mse = []\n",
    "            r2 = []\n",
    "            alpha = []\n",
    "            fea = {}\n",
    "            sco = {}\n",
    "            for r in range(len(ra)):\n",
    "                for c in range(len(ca)):\n",
    "                    for p in range(len(pa)):\n",
    "                        for x in range(len(xa)):\n",
    "                            key = (ra[r],ca[c],pa[p],xa[x])\n",
    "                            fea[key] = [list(rf[r]),cf[c],pf[p],list(xf[x])]\n",
    "                            X_train = [X[0][train_index][:,rf[r]], \n",
    "                                       X[1][train_index][:,cf[c]], \n",
    "                                        X[2][train_index][:,pf[p]], \n",
    "                                       X[3][train_index][:,xf[x]]]\n",
    "                            X_test = [X[0][test_index][:,rf[r]], \n",
    "                                      X[1][test_index][:,cf[c]], \n",
    "                                        X[2][test_index][:,pf[p]], \n",
    "                                      X[3][test_index][:,xf[x]]]\n",
    "#                             kernel_train = gram_lin(X_train, X_train, w)\n",
    "                            kernel_train = gram_rbf(X_train, X_train, params, w)\n",
    "\n",
    "                            svr.fit(kernel_train, np.ravel(y_train))\n",
    "                            y_test_pred_raw = svr.predict(gram_rbf(X_test, X_train, params, w))\n",
    "                            y_test_pred = cal_score(y_test_pred_raw,score_max,score_min)\n",
    "                            y_test = cal_score(y_test_raw,score_max,score_min)\n",
    "                            mse.append(mean_squared_error(y_test, y_test_pred))\n",
    "                            r2.append(r2_score(y_test, y_test_pred))\n",
    "                            alpha.append(key)\n",
    "                            sco[key] = (y_test_pred,y_test)\n",
    "            R2.append(r2)\n",
    "            MSE.append(mse)\n",
    "            feature.append(fea)\n",
    "            score.append(sco)\n",
    "        avr_r2 = np.mean(np.array(R2),axis=0)\n",
    "        avr_mse = np.mean(np.array(MSE),axis=0)\n",
    "        idx = np.argmax(avr_r2)\n",
    "        metric = (np.array(MSE)[:,idx], np.array(R2)[:,idx])\n",
    "        multi_r2.append(avr_r2[idx])\n",
    "        multi_mse.append(avr_mse[idx])\n",
    "        pbar.update(1)\n",
    "        print('No.', t+1,'. best r2_score=',avr_r2[idx],', corresponding alpha=', alpha[idx])\n",
    "    pbar.close()\n",
    "    multi_idx = np.argmax(multi_r2)\n",
    "    print('End of grid search. best r2_score=',multi_r2[multi_idx])\n",
    "    return feature, result, score, (alpha,avr_r2)              #not useful unless you control the weights"
   ]
  },
  {
   "cell_type": "markdown",
   "metadata": {},
   "source": [
    "## Try different random states"
   ]
  },
  {
   "cell_type": "code",
   "execution_count": 198,
   "metadata": {},
   "outputs": [],
   "source": [
    "X = cdata\n",
    "y = cog_norm\n",
    "yamlfile = 'config/lassoCD_rf_cdata.yaml'\n",
    "with open(yamlfile, 'r') as f:\n",
    "    cfg = yaml.load(f, Loader=yaml.FullLoader)"
   ]
  },
  {
   "cell_type": "code",
   "execution_count": 68,
   "metadata": {},
   "outputs": [],
   "source": [
    "def find_params(cfg , result_csv):\n",
    "    ## set configs    \n",
    "    rf_cv = cfg.get(\"rf_params_set\")\n",
    "    rf_params_list = to_sets(rf_cv)\n",
    "    idx = 0\n",
    "    for rf_params in rf_params_list:\n",
    "        df = pd.read_csv(result_csv)\n",
    "        max_r2 = df[\"max_r2\"].max()\n",
    "        max_list = df[df[\"max_r2\"]== max_r2].index.tolist()\n",
    "        if idx in max_list:\n",
    "            print(rf_params)\n",
    "        idx+=1"
   ]
  },
  {
   "cell_type": "code",
   "execution_count": 199,
   "metadata": {},
   "outputs": [],
   "source": [
    "def train_rnd(X, y, cfg):\n",
    "    ## set configs    \n",
    "    result = []\n",
    "    ll = cfg.get(\"ll\")\n",
    "    ul = cfg.get(\"ul\")\n",
    "    step = cfg.get(\"step\")\n",
    "    weight = cfg.get(\"weight\")\n",
    "#     state = cfg.get(\"random_state\")\n",
    "    score_min = cfg.get(\"score_min\")\n",
    "    score_max = cfg.get(\"score_max\")\n",
    "    random_state = np.linspace(950,1000,50)\n",
    "    rf_cv = cfg.get(\"rf_params_set\")\n",
    "    rf_params_list = to_sets(rf_cv)\n",
    "    for rf_params in rf_params_list:\n",
    "        for state in random_state:\n",
    "            state = int(state)\n",
    "            result_row=lassoCD(X, y, ll, ul, step, weight, state, score_min, score_max, rf_params)\n",
    "            result_row.update({\"state\":state})\n",
    "            print(result_row)\n",
    "            result.append(result_row)\n",
    "    return result"
   ]
  },
  {
   "cell_type": "code",
   "execution_count": 200,
   "metadata": {},
   "outputs": [
    {
     "data": {
      "application/vnd.jupyter.widget-view+json": {
       "model_id": "f241317a988c4354ab9e78acb1e97f19",
       "version_major": 2,
       "version_minor": 0
      },
      "text/plain": [
       "HBox(children=(IntProgress(value=0, description='loop', max=80, style=ProgressStyle(description_width='initial…"
      ]
     },
     "metadata": {},
     "output_type": "display_data"
    },
    {
     "name": "stdout",
     "output_type": "stream",
     "text": [
      "[-0.38559759 -0.13205739 -0.20318853  0.07085804  0.17256182 -0.36083415\n",
      " -0.03447698 -0.02569699 -0.07501011 -0.09541366]\n",
      "\n",
      "{'max_r2': -0.10886223513417537, 'best_alpha': 1e-05, 'num_features': 218, 'state': 950}\n"
     ]
    },
    {
     "data": {
      "application/vnd.jupyter.widget-view+json": {
       "model_id": "3ec98758b6d24711ad4758aacdd3a372",
       "version_major": 2,
       "version_minor": 0
      },
      "text/plain": [
       "HBox(children=(IntProgress(value=0, description='loop', max=80, style=ProgressStyle(description_width='initial…"
      ]
     },
     "metadata": {},
     "output_type": "display_data"
    },
    {
     "name": "stdout",
     "output_type": "stream",
     "text": [
      "[-0.42251783 -0.09270371 -0.03340655 -0.18303711 -0.30476183 -0.06599234\n",
      "  0.19141362  0.23549608  0.22442874 -0.01241138]\n",
      "\n",
      "{'max_r2': -0.04901709269168716, 'best_alpha': 5e-07, 'num_features': 1360, 'state': 951}\n"
     ]
    },
    {
     "data": {
      "application/vnd.jupyter.widget-view+json": {
       "model_id": "695d00cfb6f24fd18e13e16210779a59",
       "version_major": 2,
       "version_minor": 0
      },
      "text/plain": [
       "HBox(children=(IntProgress(value=0, description='loop', max=80, style=ProgressStyle(description_width='initial…"
      ]
     },
     "metadata": {},
     "output_type": "display_data"
    },
    {
     "name": "stdout",
     "output_type": "stream",
     "text": [
      "[-0.10656084 -1.23519891 -0.15854487  0.20367452 -0.30324449  0.06928375\n",
      "  0.13877713 -0.01246887 -0.37858897 -0.12866543]\n",
      "\n",
      "{'max_r2': -0.1905537502822345, 'best_alpha': 5e-07, 'num_features': 1323, 'state': 952}\n"
     ]
    },
    {
     "data": {
      "application/vnd.jupyter.widget-view+json": {
       "model_id": "8917d4b0907f4cb5a5f795cfc8cf06d4",
       "version_major": 2,
       "version_minor": 0
      },
      "text/plain": [
       "HBox(children=(IntProgress(value=0, description='loop', max=80, style=ProgressStyle(description_width='initial…"
      ]
     },
     "metadata": {},
     "output_type": "display_data"
    },
    {
     "name": "stdout",
     "output_type": "stream",
     "text": [
      "[-0.0983228  -0.09540043 -0.41067808  0.08008407 -1.61516233  0.0273001\n",
      "  0.08178749  0.04266971 -0.30894976 -0.11790519]\n",
      "\n",
      "{'max_r2': -0.24044257974303665, 'best_alpha': 1e-07, 'num_features': 3374, 'state': 953}\n"
     ]
    },
    {
     "data": {
      "application/vnd.jupyter.widget-view+json": {
       "model_id": "88df05546f69456bb20b84f65ce78c88",
       "version_major": 2,
       "version_minor": 0
      },
      "text/plain": [
       "HBox(children=(IntProgress(value=0, description='loop', max=80, style=ProgressStyle(description_width='initial…"
      ]
     },
     "metadata": {},
     "output_type": "display_data"
    },
    {
     "name": "stdout",
     "output_type": "stream",
     "text": [
      "[ 0.04899935 -0.2980747  -0.00178825  0.02268527 -0.25711391 -0.00740613\n",
      "  0.01986323  0.24085986 -0.21465744 -0.3817152 ]\n",
      "\n",
      "{'max_r2': -0.08189979775670361, 'best_alpha': 5e-07, 'num_features': 1382, 'state': 954}\n"
     ]
    },
    {
     "data": {
      "application/vnd.jupyter.widget-view+json": {
       "model_id": "fe58be58916c413ab08cd0f77b15b45a",
       "version_major": 2,
       "version_minor": 0
      },
      "text/plain": [
       "HBox(children=(IntProgress(value=0, description='loop', max=80, style=ProgressStyle(description_width='initial…"
      ]
     },
     "metadata": {},
     "output_type": "display_data"
    },
    {
     "name": "stdout",
     "output_type": "stream",
     "text": [
      "[-0.09050284 -0.10176753 -1.37171855 -0.20534094  0.10747683  0.01712687\n",
      " -0.04866829 -0.23114431  0.26669996  0.08411694]\n",
      "\n",
      "{'max_r2': -0.1568979333912506, 'best_alpha': 1e-08, 'num_features': 3339, 'state': 955}\n"
     ]
    },
    {
     "data": {
      "application/vnd.jupyter.widget-view+json": {
       "model_id": "be5bc108a1e04a7fbb15558fca3bc39f",
       "version_major": 2,
       "version_minor": 0
      },
      "text/plain": [
       "HBox(children=(IntProgress(value=0, description='loop', max=80, style=ProgressStyle(description_width='initial…"
      ]
     },
     "metadata": {},
     "output_type": "display_data"
    },
    {
     "name": "stdout",
     "output_type": "stream",
     "text": [
      "[ 0.01941597  0.4145445  -0.26733078 -0.07525176 -0.61468611  0.09059253\n",
      " -0.36483796 -0.1521092  -0.11576423 -0.23855909]\n",
      "\n",
      "{'max_r2': -0.12933609813184627, 'best_alpha': 1e-07, 'num_features': 3364, 'state': 956}\n"
     ]
    },
    {
     "data": {
      "application/vnd.jupyter.widget-view+json": {
       "model_id": "807990d2d7364431b60a7cfded1fa8b0",
       "version_major": 2,
       "version_minor": 0
      },
      "text/plain": [
       "HBox(children=(IntProgress(value=0, description='loop', max=80, style=ProgressStyle(description_width='initial…"
      ]
     },
     "metadata": {},
     "output_type": "display_data"
    },
    {
     "name": "stdout",
     "output_type": "stream",
     "text": [
      "[ 0.10181249  0.17087731 -0.08724135 -0.12264045 -0.17104084 -0.1598314\n",
      "  0.13280633 -0.31754973 -1.67338821 -0.32731395]\n",
      "\n",
      "{'max_r2': -0.24288882733874387, 'best_alpha': 1e-06, 'num_features': 941, 'state': 957}\n"
     ]
    },
    {
     "data": {
      "application/vnd.jupyter.widget-view+json": {
       "model_id": "c6b1f94ce1cd49c7a3fbe1897e64405a",
       "version_major": 2,
       "version_minor": 0
      },
      "text/plain": [
       "HBox(children=(IntProgress(value=0, description='loop', max=80, style=ProgressStyle(description_width='initial…"
      ]
     },
     "metadata": {},
     "output_type": "display_data"
    },
    {
     "name": "stdout",
     "output_type": "stream",
     "text": [
      "[-0.68200798 -0.32101116 -0.19886706  0.27676494  0.04213388  0.04550392\n",
      " -0.03965281  0.17378843 -0.04987518 -0.08457517]\n",
      "\n",
      "{'max_r2': -0.08802257068545666, 'best_alpha': 1e-06, 'num_features': 966, 'state': 958}\n"
     ]
    },
    {
     "data": {
      "application/vnd.jupyter.widget-view+json": {
       "model_id": "cf558d770d9f4fa7a3f99581f71bff4a",
       "version_major": 2,
       "version_minor": 0
      },
      "text/plain": [
       "HBox(children=(IntProgress(value=0, description='loop', max=80, style=ProgressStyle(description_width='initial…"
      ]
     },
     "metadata": {},
     "output_type": "display_data"
    },
    {
     "name": "stdout",
     "output_type": "stream",
     "text": [
      "[-0.02829259  0.1222921  -0.07207086 -0.32816027 -0.35967482 -0.05846915\n",
      " -0.23677381 -0.14628018  0.04858917  0.11775143]\n",
      "\n",
      "{'max_r2': -0.09364211676474352, 'best_alpha': 1e-06, 'num_features': 934, 'state': 959}\n"
     ]
    },
    {
     "data": {
      "application/vnd.jupyter.widget-view+json": {
       "model_id": "dbaf8c835f2648dea9d84007ba4e637a",
       "version_major": 2,
       "version_minor": 0
      },
      "text/plain": [
       "HBox(children=(IntProgress(value=0, description='loop', max=80, style=ProgressStyle(description_width='initial…"
      ]
     },
     "metadata": {},
     "output_type": "display_data"
    },
    {
     "name": "stdout",
     "output_type": "stream",
     "text": [
      "[ 2.02971133e-01 -4.04837413e-01 -6.77127740e-01 -2.27880783e-01\n",
      " -5.73838081e-04 -3.09257554e-01 -2.27645322e-01 -1.76072222e-01\n",
      " -6.56088301e-01 -3.59137839e-01]\n",
      "\n",
      "{'max_r2': -0.2801143770903821, 'best_alpha': 4.9999999999999996e-06, 'num_features': 365, 'state': 960}\n"
     ]
    },
    {
     "data": {
      "application/vnd.jupyter.widget-view+json": {
       "model_id": "0688256919834fbbbf04a1960030eebb",
       "version_major": 2,
       "version_minor": 0
      },
      "text/plain": [
       "HBox(children=(IntProgress(value=0, description='loop', max=80, style=ProgressStyle(description_width='initial…"
      ]
     },
     "metadata": {},
     "output_type": "display_data"
    },
    {
     "name": "stdout",
     "output_type": "stream",
     "text": [
      "[-0.03823754  0.03007442 -0.17509256 -0.31033792  0.22561077  0.09970648\n",
      " -0.53058688 -0.50573545 -0.04937247 -0.05635822]\n",
      "\n",
      "{'max_r2': -0.13037481416503638, 'best_alpha': 1e-06, 'num_features': 938, 'state': 961}\n"
     ]
    },
    {
     "data": {
      "application/vnd.jupyter.widget-view+json": {
       "model_id": "30366567314c42c6942387c8548ca1f8",
       "version_major": 2,
       "version_minor": 0
      },
      "text/plain": [
       "HBox(children=(IntProgress(value=0, description='loop', max=80, style=ProgressStyle(description_width='initial…"
      ]
     },
     "metadata": {},
     "output_type": "display_data"
    },
    {
     "name": "stdout",
     "output_type": "stream",
     "text": [
      "[ 0.00927777 -0.11355679  0.27071961  0.25444042 -0.27076541 -0.22449294\n",
      " -0.66233455  0.09837785 -0.30939894  0.19902979]\n",
      "\n",
      "{'max_r2': -0.0742735247617678, 'best_alpha': 4.9999999999999996e-06, 'num_features': 329, 'state': 962}\n"
     ]
    },
    {
     "data": {
      "application/vnd.jupyter.widget-view+json": {
       "model_id": "da0e0704ffef489983d1b071b0e07763",
       "version_major": 2,
       "version_minor": 0
      },
      "text/plain": [
       "HBox(children=(IntProgress(value=0, description='loop', max=80, style=ProgressStyle(description_width='initial…"
      ]
     },
     "metadata": {},
     "output_type": "display_data"
    },
    {
     "name": "stdout",
     "output_type": "stream",
     "text": [
      "[-0.15704344 -0.02479938 -0.11749626  0.37292792 -0.01049236 -0.0355259\n",
      " -0.08400127 -0.08563325 -1.13398291 -0.01628202]\n",
      "\n",
      "{'max_r2': -0.12943012341864335, 'best_alpha': 4.9999999999999996e-06, 'num_features': 360, 'state': 963}\n"
     ]
    },
    {
     "data": {
      "application/vnd.jupyter.widget-view+json": {
       "model_id": "aaa12f82de8a435db08cb1157485784d",
       "version_major": 2,
       "version_minor": 0
      },
      "text/plain": [
       "HBox(children=(IntProgress(value=0, description='loop', max=80, style=ProgressStyle(description_width='initial…"
      ]
     },
     "metadata": {},
     "output_type": "display_data"
    },
    {
     "name": "stdout",
     "output_type": "stream",
     "text": [
      "[-0.4895168  -0.68455361  0.16637687 -0.12515526 -0.02491    -0.40493492\n",
      "  0.06843897 -0.13456292 -0.03644553  0.15261758]\n",
      "\n",
      "{'max_r2': -0.15366351359344674, 'best_alpha': 1e-07, 'num_features': 3332, 'state': 964}\n"
     ]
    },
    {
     "data": {
      "application/vnd.jupyter.widget-view+json": {
       "model_id": "a1b05a6c3e7b45cca91b9b9facf6e2ce",
       "version_major": 2,
       "version_minor": 0
      },
      "text/plain": [
       "HBox(children=(IntProgress(value=0, description='loop', max=80, style=ProgressStyle(description_width='initial…"
      ]
     },
     "metadata": {},
     "output_type": "display_data"
    },
    {
     "name": "stdout",
     "output_type": "stream",
     "text": [
      "[-0.1630572  -0.18232346 -0.1133427  -0.254902    0.32894155  0.08273419\n",
      " -0.06942348  0.00614712 -0.07073332 -1.37491047]\n",
      "\n",
      "{'max_r2': -0.18095910781379776, 'best_alpha': 1e-06, 'num_features': 966, 'state': 965}\n"
     ]
    },
    {
     "data": {
      "application/vnd.jupyter.widget-view+json": {
       "model_id": "eac71e0985344b8382de79e7aae735ba",
       "version_major": 2,
       "version_minor": 0
      },
      "text/plain": [
       "HBox(children=(IntProgress(value=0, description='loop', max=80, style=ProgressStyle(description_width='initial…"
      ]
     },
     "metadata": {},
     "output_type": "display_data"
    },
    {
     "name": "stdout",
     "output_type": "stream",
     "text": [
      "[-0.10565411 -0.30446369  0.1431483  -0.01312245 -0.98775571  0.04409587\n",
      "  0.14737153 -0.2091961   0.13401662 -0.06417429]\n",
      "\n",
      "{'max_r2': -0.12146050163821548, 'best_alpha': 4.9999999999999996e-06, 'num_features': 373, 'state': 966}\n"
     ]
    },
    {
     "data": {
      "application/vnd.jupyter.widget-view+json": {
       "model_id": "c8dc7314f9b44a42b8fd148cbb6945fe",
       "version_major": 2,
       "version_minor": 0
      },
      "text/plain": [
       "HBox(children=(IntProgress(value=0, description='loop', max=80, style=ProgressStyle(description_width='initial…"
      ]
     },
     "metadata": {},
     "output_type": "display_data"
    },
    {
     "name": "stdout",
     "output_type": "stream",
     "text": [
      "[ 0.11270808 -0.55827377 -0.06078084  0.00498949 -0.05861116 -0.11146304\n",
      " -0.96638969  0.01020285 -0.13341831 -0.03856238]\n",
      "\n",
      "{'max_r2': -0.17788421790485823, 'best_alpha': 5e-08, 'num_features': 3328, 'state': 967}\n"
     ]
    },
    {
     "data": {
      "application/vnd.jupyter.widget-view+json": {
       "model_id": "6139400118304088a2ca48fcaa3df9e8",
       "version_major": 2,
       "version_minor": 0
      },
      "text/plain": [
       "HBox(children=(IntProgress(value=0, description='loop', max=80, style=ProgressStyle(description_width='initial…"
      ]
     },
     "metadata": {},
     "output_type": "display_data"
    },
    {
     "name": "stdout",
     "output_type": "stream",
     "text": [
      "[-0.2506085  -0.05966938  0.05235006 -0.91220939 -0.16750801 -0.10200447\n",
      "  0.27540555 -0.21439226  0.20713618 -0.18465307]\n",
      "\n",
      "{'max_r2': -0.1364308824381241, 'best_alpha': 1e-05, 'num_features': 242, 'state': 968}\n"
     ]
    },
    {
     "data": {
      "application/vnd.jupyter.widget-view+json": {
       "model_id": "cec30c4f3fcc4eb6ab3bd9729ae0f96c",
       "version_major": 2,
       "version_minor": 0
      },
      "text/plain": [
       "HBox(children=(IntProgress(value=0, description='loop', max=80, style=ProgressStyle(description_width='initial…"
      ]
     },
     "metadata": {},
     "output_type": "display_data"
    },
    {
     "name": "stdout",
     "output_type": "stream",
     "text": [
      "[-0.05767584  0.16682738 -1.45603405  0.27668585 -0.18708848 -0.08351961\n",
      "  0.12081469 -0.1304603  -0.04996254 -0.05296941]\n",
      "\n",
      "{'max_r2': -0.14471651167197477, 'best_alpha': 5e-07, 'num_features': 1323, 'state': 969}\n"
     ]
    },
    {
     "data": {
      "application/vnd.jupyter.widget-view+json": {
       "model_id": "d38edc4bb5f2498bbd22179ea1657480",
       "version_major": 2,
       "version_minor": 0
      },
      "text/plain": [
       "HBox(children=(IntProgress(value=0, description='loop', max=80, style=ProgressStyle(description_width='initial…"
      ]
     },
     "metadata": {},
     "output_type": "display_data"
    },
    {
     "name": "stdout",
     "output_type": "stream",
     "text": [
      "[-1.69014179e-01 -1.51281254e-01  2.92169999e-03 -4.13616636e+00\n",
      "  1.17548466e-01 -1.54814693e-01 -7.02033810e-02 -1.10511285e-01\n",
      " -2.64293982e-02 -1.04647751e-01]\n",
      "\n",
      "{'max_r2': -0.47805239817264084, 'best_alpha': 1e-08, 'num_features': 3383, 'state': 970}\n"
     ]
    },
    {
     "data": {
      "application/vnd.jupyter.widget-view+json": {
       "model_id": "bc53adbeb3ae461a927c668ed67c457b",
       "version_major": 2,
       "version_minor": 0
      },
      "text/plain": [
       "HBox(children=(IntProgress(value=0, description='loop', max=80, style=ProgressStyle(description_width='initial…"
      ]
     },
     "metadata": {},
     "output_type": "display_data"
    },
    {
     "name": "stdout",
     "output_type": "stream",
     "text": [
      "[-0.28968681 -0.29587218  0.04930922  0.0013416  -0.0180976  -0.02302399\n",
      " -0.1467398  -0.02731276  0.26307371 -0.1125706 ]\n",
      "\n",
      "{'max_r2': -0.06158720581837639, 'best_alpha': 5e-07, 'num_features': 1427, 'state': 971}\n"
     ]
    },
    {
     "data": {
      "application/vnd.jupyter.widget-view+json": {
       "model_id": "171716afe21d4e3fbf631cf3b89b1434",
       "version_major": 2,
       "version_minor": 0
      },
      "text/plain": [
       "HBox(children=(IntProgress(value=0, description='loop', max=80, style=ProgressStyle(description_width='initial…"
      ]
     },
     "metadata": {},
     "output_type": "display_data"
    },
    {
     "name": "stdout",
     "output_type": "stream",
     "text": [
      "[-3.36758037e-03  2.33539286e-03 -8.82399995e-01 -6.66148756e-02\n",
      " -6.24101187e-02 -1.41071126e-01 -3.85736099e-04 -1.72498688e-02\n",
      " -3.57292854e-02  1.56819528e-01]\n",
      "\n",
      "{'max_r2': -0.10428651702789336, 'best_alpha': 4.9999999999999996e-06, 'num_features': 361, 'state': 972}\n"
     ]
    },
    {
     "data": {
      "application/vnd.jupyter.widget-view+json": {
       "model_id": "15893fb216a145158ed1dfe6b0125a32",
       "version_major": 2,
       "version_minor": 0
      },
      "text/plain": [
       "HBox(children=(IntProgress(value=0, description='loop', max=80, style=ProgressStyle(description_width='initial…"
      ]
     },
     "metadata": {},
     "output_type": "display_data"
    },
    {
     "name": "stdout",
     "output_type": "stream",
     "text": [
      "[-1.97075569e+00 -5.75181610e-02  2.13194499e-02 -3.58040796e-02\n",
      " -1.64543880e-02 -2.58052394e-02 -4.39091151e-02 -7.58637401e-01\n",
      "  4.91623536e-02 -2.97679099e-04]\n",
      "\n",
      "{'max_r2': -0.2958337235628614, 'best_alpha': 1e-06, 'num_features': 897, 'state': 973}\n"
     ]
    },
    {
     "data": {
      "application/vnd.jupyter.widget-view+json": {
       "model_id": "7c5f6dc7219842d1bd9343dac41fbba9",
       "version_major": 2,
       "version_minor": 0
      },
      "text/plain": [
       "HBox(children=(IntProgress(value=0, description='loop', max=80, style=ProgressStyle(description_width='initial…"
      ]
     },
     "metadata": {},
     "output_type": "display_data"
    },
    {
     "name": "stdout",
     "output_type": "stream",
     "text": [
      "[ 0.04075888 -0.12360678 -0.0367059  -0.60378798 -0.28702561 -0.03347308\n",
      "  0.10841075  0.15511614 -0.9949748  -0.33273749]\n",
      "\n",
      "{'max_r2': -0.20901846390959222, 'best_alpha': 5e-07, 'num_features': 1369, 'state': 974}\n"
     ]
    },
    {
     "data": {
      "application/vnd.jupyter.widget-view+json": {
       "model_id": "afde20a6f5ff49709e5c8bbc748061a1",
       "version_major": 2,
       "version_minor": 0
      },
      "text/plain": [
       "HBox(children=(IntProgress(value=0, description='loop', max=80, style=ProgressStyle(description_width='initial…"
      ]
     },
     "metadata": {},
     "output_type": "display_data"
    },
    {
     "name": "stdout",
     "output_type": "stream",
     "text": [
      "[-0.08912012 -0.46039672  0.13411341 -0.96766962 -0.03270191  0.07755958\n",
      " -0.42882516 -0.27363496  0.09933433 -1.98012999]\n",
      "\n",
      "{'max_r2': -0.3899979893308554, 'best_alpha': 5e-07, 'num_features': 1334, 'state': 975}\n"
     ]
    },
    {
     "data": {
      "application/vnd.jupyter.widget-view+json": {
       "model_id": "c43a2e0bffd34b80a9be0a92c6b5e2de",
       "version_major": 2,
       "version_minor": 0
      },
      "text/plain": [
       "HBox(children=(IntProgress(value=0, description='loop', max=80, style=ProgressStyle(description_width='initial…"
      ]
     },
     "metadata": {},
     "output_type": "display_data"
    },
    {
     "name": "stdout",
     "output_type": "stream",
     "text": [
      "[-0.14247239 -0.30265014 -1.07928906  0.04443577 -0.14337878  0.26395356\n",
      " -0.04951003  0.02275433 -0.11796151  0.03352459]\n",
      "\n",
      "{'max_r2': -0.14702683484415313, 'best_alpha': 4.9999999999999996e-06, 'num_features': 338, 'state': 976}\n"
     ]
    },
    {
     "data": {
      "application/vnd.jupyter.widget-view+json": {
       "model_id": "a8b2566110f0427cac5047c868a8973e",
       "version_major": 2,
       "version_minor": 0
      },
      "text/plain": [
       "HBox(children=(IntProgress(value=0, description='loop', max=80, style=ProgressStyle(description_width='initial…"
      ]
     },
     "metadata": {},
     "output_type": "display_data"
    },
    {
     "name": "stdout",
     "output_type": "stream",
     "text": [
      "[-0.1736568  -0.21998995 -0.29932606 -0.60222326 -0.50847967  0.26256538\n",
      " -0.02132936  0.03229164  0.00354539  0.2426145 ]\n",
      "\n",
      "{'max_r2': -0.12871979741757603, 'best_alpha': 1e-06, 'num_features': 953, 'state': 977}\n"
     ]
    },
    {
     "data": {
      "application/vnd.jupyter.widget-view+json": {
       "model_id": "23d25883b8004af6871c1a2d99493a3f",
       "version_major": 2,
       "version_minor": 0
      },
      "text/plain": [
       "HBox(children=(IntProgress(value=0, description='loop', max=80, style=ProgressStyle(description_width='initial…"
      ]
     },
     "metadata": {},
     "output_type": "display_data"
    },
    {
     "name": "stdout",
     "output_type": "stream",
     "text": [
      "[-0.32910167 -0.86906399 -0.10422997 -0.16925065 -0.04222182  0.01784907\n",
      "  0.16079532  0.00277639  0.02298562  0.10654737]\n",
      "\n",
      "{'max_r2': -0.12177235669872472, 'best_alpha': 5e-08, 'num_features': 3411, 'state': 978}\n"
     ]
    },
    {
     "data": {
      "application/vnd.jupyter.widget-view+json": {
       "model_id": "4e832e7747e24325868bc499dc3e64cd",
       "version_major": 2,
       "version_minor": 0
      },
      "text/plain": [
       "HBox(children=(IntProgress(value=0, description='loop', max=80, style=ProgressStyle(description_width='initial…"
      ]
     },
     "metadata": {},
     "output_type": "display_data"
    },
    {
     "name": "stdout",
     "output_type": "stream",
     "text": [
      "[-0.36331937  0.09033385 -1.46738357  0.0758375  -0.2867828  -0.00966391\n",
      " -0.56959791 -0.28009164  0.02041222 -0.04731501]\n",
      "\n",
      "{'max_r2': -0.28432133455353703, 'best_alpha': 5e-07, 'num_features': 1329, 'state': 979}\n"
     ]
    },
    {
     "data": {
      "application/vnd.jupyter.widget-view+json": {
       "model_id": "d6cc9c8372b5473fbd2d5f59d5546acb",
       "version_major": 2,
       "version_minor": 0
      },
      "text/plain": [
       "HBox(children=(IntProgress(value=0, description='loop', max=80, style=ProgressStyle(description_width='initial…"
      ]
     },
     "metadata": {},
     "output_type": "display_data"
    },
    {
     "name": "stdout",
     "output_type": "stream",
     "text": [
      "[ 0.04331259 -0.22013169 -0.10525679  0.14400873 -0.11067265  0.11226104\n",
      " -0.27072755  0.18770907 -0.44170227  0.04840925]\n",
      "\n",
      "{'max_r2': -0.06053724260110668, 'best_alpha': 1e-06, 'num_features': 928, 'state': 980}\n"
     ]
    },
    {
     "data": {
      "application/vnd.jupyter.widget-view+json": {
       "model_id": "1526cc7eaf794a9e9014dd7e334ae0b9",
       "version_major": 2,
       "version_minor": 0
      },
      "text/plain": [
       "HBox(children=(IntProgress(value=0, description='loop', max=80, style=ProgressStyle(description_width='initial…"
      ]
     },
     "metadata": {},
     "output_type": "display_data"
    },
    {
     "name": "stdout",
     "output_type": "stream",
     "text": [
      "[-4.08284079e-02 -1.59203906e-01 -2.27812895e-01 -1.57536875e-01\n",
      " -1.04280599e-01 -7.60390247e-01  8.15010830e-02  1.71986971e-04\n",
      " -3.79629175e-02  5.08602042e-02]\n",
      "\n",
      "{'max_r2': -0.13487648539545607, 'best_alpha': 1e-07, 'num_features': 3358, 'state': 981}\n"
     ]
    },
    {
     "data": {
      "application/vnd.jupyter.widget-view+json": {
       "model_id": "07d4b930600a4d1d98c0f6b17444f867",
       "version_major": 2,
       "version_minor": 0
      },
      "text/plain": [
       "HBox(children=(IntProgress(value=0, description='loop', max=80, style=ProgressStyle(description_width='initial…"
      ]
     },
     "metadata": {},
     "output_type": "display_data"
    },
    {
     "name": "stdout",
     "output_type": "stream",
     "text": [
      "[-0.16883265 -0.58189465  0.15733029  0.07482084 -0.01369876  0.022187\n",
      "  0.19341693 -0.17881137 -1.34570637 -0.33538659]\n",
      "\n",
      "{'max_r2': -0.2173112579891872, 'best_alpha': 1e-08, 'num_features': 3398, 'state': 982}\n"
     ]
    },
    {
     "data": {
      "application/vnd.jupyter.widget-view+json": {
       "model_id": "b4a5c506ae944f15a063f6982727cc2d",
       "version_major": 2,
       "version_minor": 0
      },
      "text/plain": [
       "HBox(children=(IntProgress(value=0, description='loop', max=80, style=ProgressStyle(description_width='initial…"
      ]
     },
     "metadata": {},
     "output_type": "display_data"
    },
    {
     "name": "stdout",
     "output_type": "stream",
     "text": [
      "[-0.69825733 -0.10959347  0.15214063  0.12805239  0.06972496 -0.13091972\n",
      " -0.01781884 -0.07020669 -0.03889933  0.1652568 ]\n",
      "\n",
      "{'max_r2': -0.05961379986899016, 'best_alpha': 4.9999999999999996e-06, 'num_features': 365, 'state': 983}\n"
     ]
    },
    {
     "data": {
      "application/vnd.jupyter.widget-view+json": {
       "model_id": "70034d0255f0406f9b02da7931d34541",
       "version_major": 2,
       "version_minor": 0
      },
      "text/plain": [
       "HBox(children=(IntProgress(value=0, description='loop', max=80, style=ProgressStyle(description_width='initial…"
      ]
     },
     "metadata": {},
     "output_type": "display_data"
    },
    {
     "name": "stdout",
     "output_type": "stream",
     "text": [
      "[-0.06484553 -0.09002817 -0.13488259 -0.16878536  0.13035138  0.28011119\n",
      " -0.10791948 -0.16735709  0.19436094 -0.01285762]\n",
      "\n",
      "{'max_r2': -0.01454452674544653, 'best_alpha': 5e-07, 'num_features': 1399, 'state': 984}\n"
     ]
    },
    {
     "data": {
      "application/vnd.jupyter.widget-view+json": {
       "model_id": "965e5e29c12e40cdab699b9ba118a136",
       "version_major": 2,
       "version_minor": 0
      },
      "text/plain": [
       "HBox(children=(IntProgress(value=0, description='loop', max=80, style=ProgressStyle(description_width='initial…"
      ]
     },
     "metadata": {},
     "output_type": "display_data"
    },
    {
     "name": "stdout",
     "output_type": "stream",
     "text": [
      "[-0.29780537 -0.02947789 -0.02272505 -0.13050294 -0.05763263 -0.02448916\n",
      " -0.05254061 -0.60152813 -0.11067316 -0.09682077]\n",
      "\n",
      "{'max_r2': -0.14352159783663, 'best_alpha': 1e-07, 'num_features': 3343, 'state': 985}\n"
     ]
    },
    {
     "data": {
      "application/vnd.jupyter.widget-view+json": {
       "model_id": "63c5769f2ac94029b84624e1b14908ee",
       "version_major": 2,
       "version_minor": 0
      },
      "text/plain": [
       "HBox(children=(IntProgress(value=0, description='loop', max=80, style=ProgressStyle(description_width='initial…"
      ]
     },
     "metadata": {},
     "output_type": "display_data"
    },
    {
     "name": "stdout",
     "output_type": "stream",
     "text": [
      "[-0.26524139  0.18607655 -0.80329637  0.07580688 -0.79456191  0.14180285\n",
      " -0.14528505 -0.43830945 -0.19489892  0.12841036]\n",
      "\n",
      "{'max_r2': -0.21133469106137676, 'best_alpha': 5e-05, 'num_features': 97, 'state': 986}\n"
     ]
    },
    {
     "data": {
      "application/vnd.jupyter.widget-view+json": {
       "model_id": "2440d669eaa940c6bc623ff66f2b70ae",
       "version_major": 2,
       "version_minor": 0
      },
      "text/plain": [
       "HBox(children=(IntProgress(value=0, description='loop', max=80, style=ProgressStyle(description_width='initial…"
      ]
     },
     "metadata": {},
     "output_type": "display_data"
    },
    {
     "name": "stdout",
     "output_type": "stream",
     "text": [
      "[-0.1599152  -0.27432578  0.01645925  0.40199476  0.1786055  -0.21887478\n",
      " -0.09014333 -0.57909665 -0.24561579  0.10727489]\n",
      "\n",
      "{'max_r2': -0.08688535595978643, 'best_alpha': 5e-08, 'num_features': 3357, 'state': 987}\n"
     ]
    },
    {
     "data": {
      "application/vnd.jupyter.widget-view+json": {
       "model_id": "d759b2862c8347aa8d53bc8e9af67eb1",
       "version_major": 2,
       "version_minor": 0
      },
      "text/plain": [
       "HBox(children=(IntProgress(value=0, description='loop', max=80, style=ProgressStyle(description_width='initial…"
      ]
     },
     "metadata": {},
     "output_type": "display_data"
    },
    {
     "name": "stdout",
     "output_type": "stream",
     "text": [
      "[-0.06800946 -0.23280796 -0.61496463  0.09824081  0.11020694 -0.23571753\n",
      " -0.03188411 -0.15789645 -1.52603589 -0.12872039]\n",
      "\n",
      "{'max_r2': -0.27726419058528945, 'best_alpha': 1e-06, 'num_features': 1018, 'state': 988}\n"
     ]
    },
    {
     "data": {
      "application/vnd.jupyter.widget-view+json": {
       "model_id": "ea90535462f14acebc9bcbcfa9aa8bf9",
       "version_major": 2,
       "version_minor": 0
      },
      "text/plain": [
       "HBox(children=(IntProgress(value=0, description='loop', max=80, style=ProgressStyle(description_width='initial…"
      ]
     },
     "metadata": {},
     "output_type": "display_data"
    },
    {
     "name": "stdout",
     "output_type": "stream",
     "text": [
      "[-0.16366169 -0.42849764 -0.30532791 -0.72015043 -0.19779811 -0.01659328\n",
      " -0.14626563  0.24310314  0.15106993 -0.05497239]\n",
      "\n",
      "{'max_r2': -0.16390764456591952, 'best_alpha': 5e-07, 'num_features': 1344, 'state': 989}\n"
     ]
    },
    {
     "data": {
      "application/vnd.jupyter.widget-view+json": {
       "model_id": "d0a08fa547bd485eb86959ddfb65f5d6",
       "version_major": 2,
       "version_minor": 0
      },
      "text/plain": [
       "HBox(children=(IntProgress(value=0, description='loop', max=80, style=ProgressStyle(description_width='initial…"
      ]
     },
     "metadata": {},
     "output_type": "display_data"
    },
    {
     "name": "stdout",
     "output_type": "stream",
     "text": [
      "[-0.63271789  0.01679411 -0.5998865   0.1522795  -0.29227316 -0.17837636\n",
      " -0.47335218 -0.49716026  0.15840216 -0.02310973]\n",
      "\n",
      "{'max_r2': -0.23974696569016413, 'best_alpha': 5e-07, 'num_features': 1335, 'state': 990}\n"
     ]
    },
    {
     "data": {
      "application/vnd.jupyter.widget-view+json": {
       "model_id": "9e596fb5e6d2451e8f963229c60be28a",
       "version_major": 2,
       "version_minor": 0
      },
      "text/plain": [
       "HBox(children=(IntProgress(value=0, description='loop', max=80, style=ProgressStyle(description_width='initial…"
      ]
     },
     "metadata": {},
     "output_type": "display_data"
    },
    {
     "name": "stdout",
     "output_type": "stream",
     "text": [
      "[-0.92665858  0.36759162 -0.58826638  0.09842393 -0.07154453  0.01447996\n",
      "  0.19811446 -0.02026244  0.11719981 -0.20565422]\n",
      "\n",
      "{'max_r2': -0.1075087076516038, 'best_alpha': 5e-07, 'num_features': 1359, 'state': 991}\n"
     ]
    },
    {
     "data": {
      "application/vnd.jupyter.widget-view+json": {
       "model_id": "7354b9765efa453997f06dd1749a6726",
       "version_major": 2,
       "version_minor": 0
      },
      "text/plain": [
       "HBox(children=(IntProgress(value=0, description='loop', max=80, style=ProgressStyle(description_width='initial…"
      ]
     },
     "metadata": {},
     "output_type": "display_data"
    },
    {
     "name": "stdout",
     "output_type": "stream",
     "text": [
      "[-0.20308963  0.08751256 -0.63206478  0.1326247  -0.28176791 -0.05325586\n",
      "  0.06956477  0.04244461 -0.11906759 -0.04736734]\n",
      "\n",
      "{'max_r2': -0.10117461164148701, 'best_alpha': 4.9999999999999996e-06, 'num_features': 373, 'state': 992}\n"
     ]
    },
    {
     "data": {
      "application/vnd.jupyter.widget-view+json": {
       "model_id": "a41f88137a66415680aacb1205f4d3ab",
       "version_major": 2,
       "version_minor": 0
      },
      "text/plain": [
       "HBox(children=(IntProgress(value=0, description='loop', max=80, style=ProgressStyle(description_width='initial…"
      ]
     },
     "metadata": {},
     "output_type": "display_data"
    },
    {
     "name": "stdout",
     "output_type": "stream",
     "text": [
      "[ 0.07507251  0.14932495 -0.09466935 -0.32525183  0.09495204  0.11173979\n",
      " -0.12266072 -1.75973117 -0.09448217 -0.43766408]\n",
      "\n",
      "{'max_r2': -0.23810005608379703, 'best_alpha': 5e-07, 'num_features': 1345, 'state': 993}\n"
     ]
    },
    {
     "data": {
      "application/vnd.jupyter.widget-view+json": {
       "model_id": "7fa60c5e68754a12bc6bb96d987b4b2d",
       "version_major": 2,
       "version_minor": 0
      },
      "text/plain": [
       "HBox(children=(IntProgress(value=0, description='loop', max=80, style=ProgressStyle(description_width='initial…"
      ]
     },
     "metadata": {},
     "output_type": "display_data"
    },
    {
     "name": "stdout",
     "output_type": "stream",
     "text": [
      "[ 0.13582289 -0.31697436 -0.38271196  0.02261461 -0.05049182  0.16624562\n",
      "  0.28203433 -0.14839333 -0.41496228  0.03061611]\n",
      "\n",
      "{'max_r2': -0.06617716087001763, 'best_alpha': 1e-06, 'num_features': 993, 'state': 994}\n"
     ]
    },
    {
     "data": {
      "application/vnd.jupyter.widget-view+json": {
       "model_id": "27e957a75778456e842a8e3bb1c35101",
       "version_major": 2,
       "version_minor": 0
      },
      "text/plain": [
       "HBox(children=(IntProgress(value=0, description='loop', max=80, style=ProgressStyle(description_width='initial…"
      ]
     },
     "metadata": {},
     "output_type": "display_data"
    },
    {
     "name": "stdout",
     "output_type": "stream",
     "text": [
      "[-0.45640052 -0.37026752 -0.09049011 -0.22325642  0.05061384 -0.09346945\n",
      " -0.40055617  0.11300305  0.14417413 -0.26715644]\n",
      "\n",
      "{'max_r2': -0.1614870851988549, 'best_alpha': 5e-08, 'num_features': 3383, 'state': 995}\n"
     ]
    },
    {
     "data": {
      "application/vnd.jupyter.widget-view+json": {
       "model_id": "44e7ccb5bf0a42468328c27632d8b47a",
       "version_major": 2,
       "version_minor": 0
      },
      "text/plain": [
       "HBox(children=(IntProgress(value=0, description='loop', max=80, style=ProgressStyle(description_width='initial…"
      ]
     },
     "metadata": {},
     "output_type": "display_data"
    },
    {
     "name": "stdout",
     "output_type": "stream",
     "text": [
      "[ 0.09890569 -0.03873476  0.13334817  0.2594688  -0.44131062 -0.29221913\n",
      " -1.44739166 -0.4630918  -0.58750865 -0.18260464]\n",
      "\n",
      "{'max_r2': -0.2933123021729881, 'best_alpha': 5e-08, 'num_features': 3356, 'state': 996}\n"
     ]
    },
    {
     "data": {
      "application/vnd.jupyter.widget-view+json": {
       "model_id": "9f66e31748de4cecbeaa58eeb720dd03",
       "version_major": 2,
       "version_minor": 0
      },
      "text/plain": [
       "HBox(children=(IntProgress(value=0, description='loop', max=80, style=ProgressStyle(description_width='initial…"
      ]
     },
     "metadata": {},
     "output_type": "display_data"
    },
    {
     "name": "stdout",
     "output_type": "stream",
     "text": [
      "[-0.51375392  0.1955561  -0.02928881  0.12862212 -0.06403125 -0.04886137\n",
      " -0.58775917 -1.45101811 -0.41871213  0.01430738]\n",
      "\n",
      "{'max_r2': -0.27916952026085456, 'best_alpha': 5e-07, 'num_features': 1306, 'state': 997}\n"
     ]
    },
    {
     "data": {
      "application/vnd.jupyter.widget-view+json": {
       "model_id": "7b7a640a26944c7a8fcf40b489c84e57",
       "version_major": 2,
       "version_minor": 0
      },
      "text/plain": [
       "HBox(children=(IntProgress(value=0, description='loop', max=80, style=ProgressStyle(description_width='initial…"
      ]
     },
     "metadata": {},
     "output_type": "display_data"
    },
    {
     "name": "stdout",
     "output_type": "stream",
     "text": [
      "[-0.20340058  0.10297229 -0.26229902 -0.02696673 -0.04086154 -0.09308992\n",
      "  0.05101861 -0.08505666 -0.1062958  -0.13955191]\n",
      "\n",
      "{'max_r2': -0.08122580373347822, 'best_alpha': 4.9999999999999996e-06, 'num_features': 376, 'state': 998}\n"
     ]
    },
    {
     "data": {
      "application/vnd.jupyter.widget-view+json": {
       "model_id": "ceb774000d0243bdbdc52780410cad07",
       "version_major": 2,
       "version_minor": 0
      },
      "text/plain": [
       "HBox(children=(IntProgress(value=0, description='loop', max=80, style=ProgressStyle(description_width='initial…"
      ]
     },
     "metadata": {},
     "output_type": "display_data"
    },
    {
     "name": "stdout",
     "output_type": "stream",
     "text": [
      "[-0.11951518  0.02971056  0.00511026 -0.31064106  0.11092849 -0.34787084\n",
      " -0.85697379  0.09956591  0.20268838 -0.22158   ]\n",
      "\n",
      "{'max_r2': -0.14070636176799237, 'best_alpha': 1e-06, 'num_features': 956, 'state': 1000}\n"
     ]
    }
   ],
   "source": [
    "write_keys = ['max_r2','best_alpha','num_features','state']\n",
    "save_result_path = \"./results/LassoCD_rf_cdata_rnd.csv\"\n",
    "result = train_rnd(X,y,cfg)\n",
    "#record the rows in csv\n",
    "with open(save_result_path,'w') as csv_file:\n",
    "    # write header and rows to csv file\n",
    "    csv_writer = csv.DictWriter(csv_file, write_keys)\n",
    "    csv_writer.writeheader()\n",
    "    csv_writer.writerows(result)"
   ]
  },
  {
   "cell_type": "code",
   "execution_count": 0,
   "metadata": {
    "colab": {},
    "colab_type": "code",
    "id": "2Em-OjCSeeZi"
   },
   "outputs": [],
   "source": [
    "# param_test1 = {'n_estimators':range(100,101,1)}\n",
    "# gsearch1 = GridSearchCV(estimator = RandomForestRegressor(random_state=5), \n",
    "#                        param_grid = param_test1, scoring='r2',cv=5)\n",
    "# gsearch1.fit(X_train,y_train)\n",
    "\n",
    "# means = gsearch1.cv_results_['mean_test_score']\n",
    "# stds = gsearch1.cv_results_['std_test_score']\n",
    "# for mean, std, params in zip(means, stds, gsearch1.cv_results_['params']):\n",
    "#     print(\"%0.3f (+/-%0.03f) for %r\"\n",
    "#               % (mean, std * 2, params))\n",
    "#     print()\n",
    "\n",
    "# gsearch1.best_params_, gsearch1.best_score_"
   ]
  },
  {
   "cell_type": "code",
   "execution_count": 0,
   "metadata": {
    "colab": {},
    "colab_type": "code",
    "id": "kyHJparMf4yc"
   },
   "outputs": [],
   "source": []
  }
 ],
 "metadata": {
  "colab": {
   "collapsed_sections": [],
   "name": "randomforest.ipynb",
   "provenance": []
  },
  "kernelspec": {
   "display_name": "Python 3",
   "language": "python",
   "name": "python3"
  },
  "language_info": {
   "codemirror_mode": {
    "name": "ipython",
    "version": 3
   },
   "file_extension": ".py",
   "mimetype": "text/x-python",
   "name": "python",
   "nbconvert_exporter": "python",
   "pygments_lexer": "ipython3",
   "version": "3.6.9"
  }
 },
 "nbformat": 4,
 "nbformat_minor": 1
}
